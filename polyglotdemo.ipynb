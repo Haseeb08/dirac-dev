{
 "cells": [
  {
   "cell_type": "markdown",
   "metadata": {
    "colab_type": "text",
    "id": "view-in-github"
   },
   "source": [
    "<a href=\"https://colab.research.google.com/github/ucalyptus/dirac-dev/blob/master/polyglotdemo.ipynb\" target=\"_parent\"><img src=\"https://colab.research.google.com/assets/colab-badge.svg\" alt=\"Open In Colab\"/></a>"
   ]
  },
  {
   "cell_type": "code",
   "execution_count": 1,
   "metadata": {
    "colab": {
     "base_uri": "https://localhost:8080/",
     "height": 221
    },
    "colab_type": "code",
    "id": "OcTCSWSCqRg7",
    "outputId": "0889fa45-ba13-4e84-fce0-f65daf9e43f1"
   },
   "outputs": [
    {
     "name": "stdout",
     "output_type": "stream",
     "text": [
      "[nltk_data] Downloading package punkt to /root/nltk_data...\n",
      "[nltk_data]   Package punkt is already up-to-date!\n",
      "[nltk_data] Downloading package brown to /root/nltk_data...\n",
      "[nltk_data]   Package brown is already up-to-date!\n",
      "Requirement already satisfied: polyglot in /usr/local/lib/python3.6/dist-packages (16.7.4)\n",
      "[nltk_data] Downloading package wordnet to /root/nltk_data...\n",
      "[nltk_data]   Package wordnet is already up-to-date!\n",
      "[nltk_data] Downloading package averaged_perceptron_tagger to\n",
      "[nltk_data]     /root/nltk_data...\n",
      "[nltk_data]   Package averaged_perceptron_tagger is already up-to-\n",
      "[nltk_data]       date!\n"
     ]
    },
    {
     "data": {
      "text/plain": [
       "True"
      ]
     },
     "execution_count": 1,
     "metadata": {
      "tags": []
     },
     "output_type": "execute_result"
    }
   ],
   "source": [
    "import nltk\n",
    "nltk.download('punkt')\n",
    "nltk.download('brown')\n",
    "!pip3 install polyglot\n",
    "nltk.download('wordnet')\n",
    "nltk.download('averaged_perceptron_tagger')\n"
   ]
  },
  {
   "cell_type": "code",
   "execution_count": 2,
   "metadata": {
    "colab": {
     "base_uri": "https://localhost:8080/",
     "height": 204
    },
    "colab_type": "code",
    "id": "UVSXMXP4iCrp",
    "outputId": "2f985676-6195-4260-cc99-a6413c406589"
   },
   "outputs": [
    {
     "name": "stdout",
     "output_type": "stream",
     "text": [
      "\r",
      "Reading package lists... 0%\r",
      "\r",
      "Reading package lists... 0%\r",
      "\r",
      "Reading package lists... 0%\r",
      "\r",
      "Reading package lists... 8%\r",
      "\r",
      "Reading package lists... 8%\r",
      "\r",
      "Reading package lists... 8%\r",
      "\r",
      "Reading package lists... 8%\r",
      "\r",
      "Reading package lists... 74%\r",
      "\r",
      "Reading package lists... 76%\r",
      "\r",
      "Reading package lists... 76%\r",
      "\r",
      "Reading package lists... 77%\r",
      "\r",
      "Reading package lists... 77%\r",
      "\r",
      "Reading package lists... 82%\r",
      "\r",
      "Reading package lists... 82%\r",
      "\r",
      "Reading package lists... 82%\r",
      "\r",
      "Reading package lists... 82%\r",
      "\r",
      "Reading package lists... 90%\r",
      "\r",
      "Reading package lists... 90%\r",
      "\r",
      "Reading package lists... 90%\r",
      "\r",
      "Reading package lists... 90%\r",
      "\r",
      "Reading package lists... 90%\r",
      "\r",
      "Reading package lists... 90%\r",
      "\r",
      "Reading package lists... 92%\r",
      "\r",
      "Reading package lists... 92%\r",
      "\r",
      "Reading package lists... 92%\r",
      "\r",
      "Reading package lists... 92%\r",
      "\r",
      "Reading package lists... 93%\r",
      "\r",
      "Reading package lists... 93%\r",
      "\r",
      "Reading package lists... 93%\r",
      "\r",
      "Reading package lists... 93%\r",
      "\r",
      "Reading package lists... 94%\r",
      "\r",
      "Reading package lists... 94%\r",
      "\r",
      "Reading package lists... 94%\r",
      "\r",
      "Reading package lists... 94%\r",
      "\r",
      "Reading package lists... 94%\r",
      "\r",
      "Reading package lists... 94%\r",
      "\r",
      "Reading package lists... 98%\r",
      "\r",
      "Reading package lists... 98%\r",
      "\r",
      "Reading package lists... 98%\r",
      "\r",
      "Reading package lists... 98%\r",
      "\r",
      "Reading package lists... Done\r\n",
      "\r",
      "Building dependency tree... 0%\r",
      "\r",
      "Building dependency tree... 0%\r",
      "\r",
      "Building dependency tree... 50%\r",
      "\r",
      "Building dependency tree... 50%\r",
      "\r",
      "Building dependency tree       \r\n",
      "\r",
      "Reading state information... 0%\r",
      "\r",
      "Reading state information... 0%\r",
      "\r",
      "Reading state information... Done\r\n",
      "libicu-dev is already the newest version (60.2-3ubuntu3).\n",
      "python-numpy is already the newest version (1:1.13.3-2ubuntu1).\n",
      "0 upgraded, 0 newly installed, 0 to remove and 10 not upgraded.\n",
      "Reading package lists... Done\n",
      "Building dependency tree       \n",
      "Reading state information... Done\n",
      "python3-icu is already the newest version (1.9.8-0ubuntu1).\n",
      "0 upgraded, 0 newly installed, 0 to remove and 10 not upgraded.\n"
     ]
    }
   ],
   "source": [
    "!apt install python-numpy libicu-dev\n",
    "!apt install python3-icu"
   ]
  },
  {
   "cell_type": "code",
   "execution_count": 3,
   "metadata": {
    "colab": {
     "base_uri": "https://localhost:8080/",
     "height": 85
    },
    "colab_type": "code",
    "id": "jhTtgdx6iN8Z",
    "outputId": "f8fec60e-328d-4fcd-b294-46312590238d"
   },
   "outputs": [
    {
     "name": "stdout",
     "output_type": "stream",
     "text": [
      "Reading package lists... Done\n",
      "Building dependency tree       \n",
      "Reading state information... Done\n",
      "0 upgraded, 0 newly installed, 0 to remove and 10 not upgraded.\n"
     ]
    }
   ],
   "source": [
    "!apt autoremove"
   ]
  },
  {
   "cell_type": "code",
   "execution_count": 4,
   "metadata": {
    "colab": {
     "base_uri": "https://localhost:8080/",
     "height": 34
    },
    "colab_type": "code",
    "id": "KtlAwvruh5xR",
    "outputId": "c60efb19-25e4-42d6-e0c7-8a8e1f38b6d9"
   },
   "outputs": [
    {
     "name": "stdout",
     "output_type": "stream",
     "text": [
      "Requirement already satisfied: pycld2 in /usr/local/lib/python3.6/dist-packages (0.31)\n"
     ]
    }
   ],
   "source": [
    "\n",
    "!pip3 install pycld2\n",
    "from polyglot.downloader import downloader\n",
    "#print(downloader.supported_languages_table(\"ner2\", 3))"
   ]
  },
  {
   "cell_type": "code",
   "execution_count": 5,
   "metadata": {
    "colab": {
     "base_uri": "https://localhost:8080/",
     "height": 34
    },
    "colab_type": "code",
    "id": "HA-h92_XjECn",
    "outputId": "77c20356-23ce-4821-8d85-0e00f898e616"
   },
   "outputs": [
    {
     "name": "stdout",
     "output_type": "stream",
     "text": [
      "Requirement already satisfied: morfessor in /usr/local/lib/python3.6/dist-packages (2.0.4)\n"
     ]
    }
   ],
   "source": [
    "!pip3 install morfessor"
   ]
  },
  {
   "cell_type": "code",
   "execution_count": 6,
   "metadata": {
    "colab": {
     "base_uri": "https://localhost:8080/",
     "height": 102
    },
    "colab_type": "code",
    "id": "kt0zQzidhupu",
    "outputId": "29b3c166-ad0e-4489-ad18-99d4600e9a78"
   },
   "outputs": [
    {
     "name": "stdout",
     "output_type": "stream",
     "text": [
      "[polyglot_data] Downloading package embeddings2.en to\n",
      "[polyglot_data]     /root/polyglot_data...\n",
      "[polyglot_data]   Package embeddings2.en is already up-to-date!\n",
      "[polyglot_data] Downloading package ner2.en to /root/polyglot_data...\n",
      "[polyglot_data]   Package ner2.en is already up-to-date!\n"
     ]
    }
   ],
   "source": [
    "%%bash\n",
    "polyglot download embeddings2.en ner2.en"
   ]
  },
  {
   "cell_type": "code",
   "execution_count": 7,
   "metadata": {
    "colab": {
     "base_uri": "https://localhost:8080/",
     "height": 111,
     "resources": {
      "http://localhost:8080/nbextensions/google.colab/files.js": {
       "data": "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",
       "headers": [
        [
         "content-type",
         "application/javascript"
        ]
       ],
       "ok": true,
       "status": 200,
       "status_text": ""
      }
     }
    },
    "colab_type": "code",
    "id": "xTxHtGt8f4iD",
    "outputId": "e65b8f3e-a337-41d8-9d77-df03cbaba265"
   },
   "outputs": [
    {
     "data": {
      "text/html": [
       "\n",
       "     <input type=\"file\" id=\"files-0b578cfa-5412-4770-ad4d-346c84b6200c\" name=\"files[]\" multiple disabled />\n",
       "     <output id=\"result-0b578cfa-5412-4770-ad4d-346c84b6200c\">\n",
       "      Upload widget is only available when the cell has been executed in the\n",
       "      current browser session. Please rerun this cell to enable.\n",
       "      </output>\n",
       "      <script src=\"/nbextensions/google.colab/files.js\"></script> "
      ],
      "text/plain": [
       "<IPython.core.display.HTML object>"
      ]
     },
     "metadata": {
      "tags": []
     },
     "output_type": "display_data"
    },
    {
     "name": "stdout",
     "output_type": "stream",
     "text": [
      "Saving clean2.txt to clean2 (2).txt\n"
     ]
    },
    {
     "data": {
      "text/plain": [
       "{'clean2.txt': b'for the Year Ended December 31, 2013 FINANCIAL STATEMENTS O F adidas AG CONTENTS 3 Information on the combined Management Report 4 Balance Sheet 5 Income Statement 6 Notes 32 Statements of Changes in Fixed Assets 34 Supervisory Board and Executive Board 38 List of Shareholdings 46 Auditors\\xe2\\x84\\xa2 Report 48 Responsi bility Statement 49 Supervisory Board Report Combined Management Report The Management Report of adidas AG has been combined with the Management Report of the adidas Group in accordance with \\xc2\\xa7 315 section 3 together with \\xc2\\xa7 298 section 3 of the German Commercial Code (Handelsgesetzbuch \\xc5\\x92 HGB) and is published in the 201 3 Annual Report of the adidas Group. The Financial Statements and the combined Management Report for adidas AG and the adidas Group for the 201 3 financial year are filed with and published in the Federal Gazette. The Financial Statements of adidas AG as well as the Annual Report for the 201 3 financial year are also available for download on the Internet at http://www.adidas -group.com/en/investors/financial -reports/ Annual financial statements of adidas AG Balance Sheet EUR thousand Dec. 31, 2013 Dec. 31, 2012 ASSETS FIXED ASSETS (1) Intangible assets (2) 147,804 151,894 Tangible assets (2) 303,794 264,398 Financial assets (3) 3,475,917 3,480,206 3,927,515 3,896,498 CURRENT ASSETS Inventories (4) 29,339 32,541 Receivables and other assets (5) 1,928,325 1,976,406 Cash and cash equivalents (6) 735,598 1,048,306 2,693,262 3,057,253 PREPAID EXPENSES (7) 73,652 76,041 6,694,429 7,029,792 EQUITY AND LIABILITIES EQUITY Subscribed capital (8) 209,216 209,216 Capital reserves (8) 1,200,966 1,200,966 Revenue reserves 655,128 655,128 Retained earnings (9) 424,076 606,495 2,489,386 2,671,805 UNTAXED RESERVE (10) 4,719 5,041 PROVISIONS/ACCRUALS (11) 393,401 361,098 LIABILITIES (12) 3,806.719 3,991,772 DEFERRED INCOME 204 76 6,694,429 7,029,792 Annual financial statements of adidas AG Income Statement EUR thousand 2013 2012 Sales (14) 1,952,467 2,004,541 Change in inventory 1,045 -54 Total output 1,953,512 2,004,487 Other operating income (15) 1,164,880 1,269,892 Cost of materials (16) -532,143 -573,655 Personnel expenses (17) -357,026 -343,419 Amortization and write -downs of intangible fixed assets and depreciation and write -downs of tangible fixed assets (19) -80,583 -71,431 Other operating expenses (19) -1,980,611 -2,055,398 Income from operations 168,029 230,476 Income from investments in related companies (20) 102,486 86,212 Profit received under a profit and loss transfer agreement (21) 5,832 335,841 Write -downs of long -term financial assets (22) -2,841 0 Interest result (23) -62,281 -72,135 Income from ordinary activities 211,225 580,394 Taxes on income (24) -111,138 -76,149 Other taxes -64 -740 NET INCOME 100,023 503,505 Retained earnings brought forward 324,053 102,990 RETAINED EARNINGS 424,076 606,495 Notes to the annual financial statements of adidas AG for the year ended December 31, 2013 In the interest of providing a clearer overall picture, certain items in the balance sheet and income statement have been combined as permitted in \\xc2\\xa7 265 (7) German Commercial Code (Handelsgesetzbuch , \"HGB\"), and have been disclosed and explained separately under the numerical text reference indicated below. The names and domiciles of other companies in which adidas AG (\"Company\") holds at least a one-fifth interest, either directly or indirectly, and the disclosures related to these companies can be found in Appendix 3 to these notes. Accounting policies Acquired intangible fixed assets are recognized at cost and subject to periodic straight-line amortization over their expected useful lives. Tangible fixed assets are recognized at (acquisition or production) cost. All recognizable direct and overhead costs are included in production costs. Items with a finite life are depreciated/amortized over their expected useful lives. Buildings are subject to straight-line amortization at adidas AG. The estimated useful life of business premises is 50 years maximum and from two to ten years for technical equipment and machinery, other equipment, and operating and office equipment. The refurbishment costs of buildings comprising the World of Sports headquarters, owned by GEV Grundst\\xc3\\xbccksgesellschaft Herzogenaurach mbH & Co. KG, a company within the adidas AG Group, are depreciated over 20 years. The buildings located on the \"World of Sports\" grounds, which are beneficially owned by adidas AG by virtue of a use agreement between the property owner GEV Grundst\\xc3\\xbccksgesellschaft Herzogenaurach mbH & Co. KG and adidas AG are depreciated over a useful life of 33 years. Chattel assets are depreciated on a straight-line basis. Minor-value assets worth less than EUR 410 are written off in full in the year of their acquisition. Write-downs to the lower fair value are also recognized if an impairment is anticipated to be other than temporary. Long-term financial assets are recognized at cost. To the extent necessary, write-downs are made to their lower fair value. If the reasons for the write-down no longer apply, the write- down is reversed to no higher than the historical cost of the asset. Inventories are measured at the lower of cost or market. Manufacturing costs comprise direct costs that must be capitalized and appropriate portions of overhead costs. Allowances are taken for discernible fashion and technical risks, age structure, and marketability. Receivables and other assets are generally recognized at nominal values. Individual adjustments and allowances for doubtful accounts are taken to cover discernible risks. Derivative financial transactions entered into with banks by Group Treasury (primarily forward currency and currency option transactions) are generally related to underlying transactions with Group companies. Hedge accounting is applied if there is a direct hedging relationship between these transactions. The net hedge presentation method is applied. The fair values of the hedges are matched and changes in value from the hedged risk which offset each other are not recognized. Unrealized losses are recognized in profit or loss only if they are not covered by unrealized gains in the hedge accounting. Derivative transactions that are not recognized using hedge accounting are measured individually at fair value. Any losses resulting from these transactions are recognized in profit or loss; gains are not recognized in excess of cost. Deferred taxes are recognized for temporary differences between the carrying amounts and tax bases for assets, liabilities, prepaid expenses and deferred income. Deferred taxes are calculated based on the combined income tax rate of adidas AG, which is currently 28 %. The combined income tax rate comprises corporate income tax, municipal trade tax and the solidarity surcharge. A net tax burden would be recognized on the balance sheet as a deferred tax liability. There is an option to recognize a deferred tax asset under \\xc2\\xa7 274 (1) no. 2 HGB in the event of any overall tax benefit granted. In the fiscal year, the Company had a net deferred tax asset, which it did not recognize on its balance sheet. Subscribed capital is recognized at the nominal amount. The Company exercised its option to maintain the special tax-allowable reserve as permitted upon the first-time adoption of the German Accounting Law Modernization Act (Bilanzrechtsmodernisierungsgesetz , \"BilMoG\"). Accounting policies relating to this reserve and its reversal remain the same as previously. Provisions for pensions are calculated on the basis of actuarial biometric assumptions (2005 G mortality tables by Prof. Dr. Klaus Heubeck) in accordance with the projected unit credit method (PUC). The provision amount recognized under the PUC method is defined as the actuarial present value of the pension obligations earned by the employees by the balance sheet date according to the retirement benefit formula and the vested pension amount based on their service in the past. Expected future wage and pension benefit increases are factored in to the provision using a 1% to 2% p.a. growth rate. Fluctuation is assumed to range between 5% and 20%, depending on age. The rate used to discount the pension obligations in accordance with \\xc2\\xa7 253 (2) sentence 2 HGB amounts to 4.90% as of December 31, 2013 (previous year: 5.06%); this rate was determined and published by the German Bundesbank as the average market rate for the past seven fiscal years for an assumed term of 15 years. Other provisions cover all discernible risks and uncertain obligations and are recognized in the settlement amount dictated by prudent business judgment in order to cover future payment obligations. Future price and cost increases are factored in to the extent that there is sufficient objective evidence that they will occur. Provisions with terms in excess of one year are discounted at the average market rate for their respective maturity over the past seven years, in accordance with \\xc2\\xa7 253 (2) sentence 1 HGB . Provisions for partial and early retirement liabilities, reported under other provisions, are discounted at 3.65% as of December 31, 2013 (previous year: 3.98%). This rate was determined and published by the German Bundesbank as the average market rate for the past seven fiscal years for a residual term of 3 years. Securities classified as current assets serve exclusively to satisfy liabilities from partial and early retirement obligations and are isolated from all other creditors. In accordance with the provisions of HGB, these assets must be offset against the liabilities for which they serve as hedges. Analogously to the offsetting of assets against liabilities, the associated income from securities is offset against interest expenses. The assets to be offset are measured at fair value as determined by their current exchange or market price. Any difference arising between the fair value and historical cost of the assets to be offset is subject to a restriction on distribution. The effect from the annual adjustment of the discount rate applied to the provisions in accordance with \\xc2\\xa7 253 (2) HGB is recognized immediately in profit and loss under other interest and similar income or interest and similar expenses. Internally generated intangible assets are not capitalized. Liabilities are recognized at their settlement amount. Revenues are recognized once the price risk has been transferred to the purchaser. This generally occurs upon delivery of the merchandise. Licensing revenues are recognized in accordance with the underlying contractual agreements. Claims and revenues generally arise whenever the licensee generates sales revenue with adidas products. Assets and liabilities denominated in a foreign currency are recorded at the mean spot rate as of the respective transaction date. Currency translation losses arising as of the balance sheet date due to the measurement of foreign-denominated assets and liabilities are reported. Currency translation gains from the measurement of current assets and liabilities falling due within less than one year are recorded in profit or loss in accordance with \\xc2\\xa7 256a HGB . Currency translation gains are reported under \"other operating income\" and currency translation losses are reported under \"other operating expenses\". Income from profit and loss transfer agreements is recognized if the amount to be transferred or absorbed can be determined with reasonable certainty, even if the annual financial statements of the subsidiary have not yet been adopted. Income from long-term equity investments is generally recognized during the period in which a claim to such income arises and it can be reasonably expected that the amounts due will be collected. 1. Fixed assets Please see Appendix 1 to the notes on the financial statements for the statement of changes in fixed assets pursuant to 268 (2) HGB. 2. Intangible fixed assets and tangible fixed assets Intangible fixed assets and tangible fixed assets EUR thousand Dec. 31, 2013 Dec. 31, 2012 Balance as of Jan. 1 416,292 409,053 Additions 116,187 83,419 Disposals 298 4,761 Depreciation, amortization and write -downs 80,583 71,431 Reversals 0 12 Balance as of Dec. 31 451,598 416,292 The significant additions concern primarily assets under construction (EUR 33,122 thousand) and licenses for standard software (EUR 22,448 thousand). 3. Long-term financial assets The change (EUR 4,289 thousand) related primarily to the disposal of the equity interest in Sarragan AG, Cham, Switzerland (EUR 2,841 thousand), which was merged with adidas sport gmbh during the fiscal year. 4. Inventories Inventories EUR thousand Dec. 31, 2013 Dec. 31, 2012 Raw materials, consumables and supplies 3,650 4,148 Work in progress 50 30 Finished goods and merchandise 25,639 28,363 Inventories 29,339 32,541 Inventories relate to raw materials, consumables, and supplies for production purposes, work in progress in the production process, and merchandise at the Company\\'s own adidas shops, the factory outlets, as well as merchandise of the Fashion Group, i.e., products from collections such as \"NEO\", \"Y3\" and \"Porsche Design\". 5. Receivables and other assets Receivables and other assets EUR thousand Dec. 31, 2013 Dec. 31, 2012 Trade accounts receivable 63,568 53,902 of which with a residual maturity of more than one year 0 0 Receivables from affiliated companies 1,846,219 1,902,553 of which with a residual maturity of more than one year 0 0 Other assets 18,538 19,951 of which with a residual maturity of more than one year 202 101 Receivables and other assets 1,928,325 1,976,406 The receivables from affiliated companies primarily concern receivables in connection with Group Treasury activities. Group Treasury uses a netting process to balance out any fund surpluses or deficits at subsidiaries through adidas AG and settle payments between subsidiaries. Receivables from affiliated companies include EUR 4,664 thousand in trade accounts receivable. A total of EUR 36 thousand in other receivables from affiliated companies was written up and EUR 2,870 thousand was written down. Other assets include mainly VAT receivables from tax authorities, withholding tax receivables, recognized option premiums, accounts payable with debit balances, and receivables from credit card institutions. 6. Cash and cash equivalents Cash and cash equivalents EUR thousand Dec. 31, 2013 Dec. 31, 2012 Cash -in-hand, bank balances and checks 735,598 1,048,306 7. Prepaid expenses Prepaid expenses EUR thousand Dec. 31, 2013 Dec. 31, 2012 Advertising and promotion agreements 3,402 481 Discount on promissory note loan 1,570 2,067 Discount from valuation of conversion right attaching to convertible bond 36,861 49,706 Other 31,819 23,787 Prepaid expenses 73,652 76,041 In March 2012, adidas AG issued a convertible bond maturing in 2019 with a volume of EUR 500,000 thousand. The convertible bond carries a 0.25 percent p.a. coupon and may be converted into shares in the Company. The value of the conversion right was determined to be EUR 55,891 thousand, which was recorded as a discount under prepaid expenses. The discount will be amortized as of the earliest date possible, i.e., as of the June 2017 redemption by bond holders. As of the balance sheet date, the discount amounted to EUR 36,861 thousand. Other prepaid expenses comprise mainly advance payments for rent, advertising, insurance premiums and maintenance. 8. Subscribed capital and capital reserves The share capital of adidas AG did not change in the year under review compared to December 31, 2012. As of the balance sheet date and on February 14, 2014, it totaled EUR 209,216,186, divided into 209,216,186 registered no-par value shares (\"registered shares\"), and is fully paid in. Each share grants one vote and carries dividend rights from the year in which it is issued. Pursuant to \\xc2\\xa7 71b German Stock Corporation Act ( Aktiengesetz , \"AktG\"), directly or indirectly held treasury shares do not carry dividend rights. The Company did not hold any treasury shares on the balance sheet date or on February 14, 2014. The issue of a convertible bond issue in March 2012, due 2019, increased the capital reserves by EUR 55,890,558.65. The table below provides an overview of the changes in equity: Changes in equity EUR thousand Jan. 1, 2013 Dividend Net profit for the year Dec. 31, 2013 Subscribed capital 209,216 0 0 209,216 Capital reserves 1,200,966 0 0 1,200,966 Revenue reserves 655,128 0 0 655,128 Retained earnings 606,495 -282,442 100,023 424,076 Equity 2,671,805 -282,442 100,023 2,489,386 Authorized capital The Executive Board of adidas AG did not use the existing authorized capital totaling EUR 95,000,000 in the 2013 fiscal year or after the balance sheet date up to February 14, 2014. The following discussion of the existing authorized capital does not extend to include the revocation of Authorized Capital 2009/I, 2010 and 2011 resolved by the Annual General Meeting on May 8, 2013, which also was not utilized up to May 8, 2013. Pursuant to Article 4 paragraphs 2, 3, and 4 of the Articles of Association which, as of the balance sheet date governs the Company\\'s authorized capital, the Executive Board is entitled, subject to Supervisory Board approval, to increase the share capital: until June 30, 2018 by issuing new shares against cash contributions, once or severally, by up to a maximum of EUR 50,000,000 and, subject to Supervisory Board approval, to exclude fractional shares from shareholders\\' subscription rights (Authorized Capital 2013/I); until June 30, 2016 by issuing new shares against contributions in kind, once or severally, up to a maximum of EUR 25,000,000 and, subject to Supervisory Board approval, to exclude shareholders\\' subscription rights (Authorized Capital 2013/II); until June 30, 2018 by issuing new shares against cash contributions, once or severally, by up to a maximum of EUR 20,000,000 and, subject to Supervisory Board approval, to exclude shareholders\\' subscription rights for fractional amounts and when issuing the new shares at an issue price that is not substantially below the market price of shares of the same class; subscription rights may also be excluded in connection with the listing of the Company\\'s shares on a foreign stock exchange (Authorized Capital 2013/III). The authorization to exclude subscription rights pursuant to the last sentence, may, however, only be used to the extent that the pro rata amount of the new shares in the share capital together with the pro rata amount of other shares in the share capital which were issued by the Company after May 8, 2013, subject to the exclusion of subscription rights pursuant to \\xc2\\xa7 186 (3) sentence 4 AktG on the basis of an authorized capital or following a repurchase, or for which conversion or subscription rights or conversion or subscription obligations were granted after May 8, 2013, through issuance of bonds with warrants and/or convertible bonds, with subscription rights excluded pursuant to \\xc2\\xa7 186 (3) sentence 4 AktG, does not exceed 10% of the share capital existing on the date of entry of this authorization into the commercial register or if this amount is lower as at the respective date on which the authorization is used. Contingent capital The following discussion of contingent capital relates to Article 4 (5) of the Company\\'s Articles of Association and the underlying resolutions of the Annual General Meeting on May 6, 2010. There is no other contingent capital. As of the balance sheet date, the share capital is conditionally increased by up to EUR 36,000,000, divided into up to 36,000,000 registered shares (Contingent Capital 2010). The conditional capital increase will only be implemented to the extent that the holders/creditors of warrants and conversion rights and/or the persons obligated to exercise the warrant or conversion feature from bonds with warrants or convertible bonds issued or guaranteed by the Company or a subordinate Group company prior to May 5, 2015 pursuant to the authorization of the Executive Board by shareholder resolution dated May 6, 2010 exercise their warrant or conversion rights or, if they are obligated to exercise the warrant or conversion feature, fulfill their obligation to exercise the warrant or conversion feature or, if the Company avails itself an option to substitute payment of the monetary amount falling due, in part or in whole, by delivering shares in the Company, to the extent no cash settlement is granted, or own shares or the shares of another listed company may be used to service the obligation. The new shares will be issued at the relevant warrant or conversion price to be determined in accordance with the aforementioned authorization resolution. The new shares carry dividend rights from the beginning of the fiscal year in which they are created. The Executive Board is authorized, subject to Supervisory Board approval, to stipulate the further details concerning the implementation of the conditional capital increase. The Executive Board of adidas AG has not issued any shares from Contingent Capital 2010 in the 2013 fiscal year or after the balance sheet date up until February 14, 2014. Convertible bond On March 14, 2012, the Executive Board, with the approval of the Supervisory Board, partially exercised the authorization of the Annual General Meeting dated May 6, 2010, and on March 21, 2012 issued a convertible bond with a nominal amount of EUR 500,000,000 in an offering to institutional investors outside the United States, due June 14, 2019, under exclusion of the shareholders\\' subscription rights. The conversion right may be exercised at any time in the period from May 21, 2012 to June 5, 2019 and (subject to any modification of the conversion ratio as a result of the anti-dilution protections set forth under \\xc2\\xa7 10 of the bond terms or a change of control pursuant to \\xc2\\xa7 13 of the bond terms) converted into 6,016,954 shares in the Company, subject to the expiration of the conversion right stipulated in \\xc2\\xa7 6 section 3 of the bond terms and conditions or of the exclusion period stipulated in \\xc2\\xa7 6 section 4. The exercise price is currently EUR 83.10 per share. The convertible bond has a 0.25% annual coupon. Convertible bond holders receive the right to call the bond on June 14, 2017. adidas AG will have the right to redeem the convertible bond early from July 14, 2017 if the share price of adidas AG exceeds the current conversion price of EUR 83.10 by no less than 30% on 20 out of 30 consecutive trading days. The convertible bond is traded on the Regulated Unofficial Market ( Freiverkehr ) of the Frankfurt Stock Exchange. Acquisition of treasury shares On May 6, 2010, the Annual General Meeting resolved the authorization of the Executive Board to acquire treasury shares of up to 10% of the share capital up to May 5, 2015. The authorization may be exercised by the Company, its subsidiaries or by a third party engaged by the Company or its subsidiaries to act on its or their account. The authorization was not exercised during the year under review or by February 14, 2014. Notifications of voting rights \\xc2\\xa7 160 (1) no. 8 AktG requires the disclosure of the content of notifications to the Company pursuant to \\xc2\\xa7 21 (1) or (1a) of the German Securities Trading Act ( Wertpapierhandelsgesetz , \"WpHG\") regarding equity interests held in the Company. The table below contains information regarding the notifications submitted to the Company as of February 14, 2014. The disclosures in the table were taken from the most recent notifications submitted to the Company. All publications by the Company with regard to notifications of equity interests during the year and as of February 14, 2014 are available on the adidas Group\\'s website: (www.adidas-Group. de/stimmrechtsmitteilungen ). Please note that disclosures in the table concerning equity interests in terms of percentage and voting rights may no longer be up- to-date. Notifications submitted as of February 14, 2014 Notifying party Notification triggered on Threshold Basis under \\xc2\\xa7 22 WpHG Equity interest in % Equity interest in voting rights Soci\\xc3\\xa9t\\xc3\\xa9 G\\xc3\\xa9n\\xc3\\xa9rale, Paris, France 1) May 14, 2013 Fell below 5% \\xc2\\xa7\\xc2\\xa721, 22,25,25a 2) 4,32 9,035,100 USB AG, Zu rich, Switzerland 3) May 14 , 2013 Exceeded 5% \\xc2\\xa7\\xc2\\xa721, 22,25,25a 4) 4,73 9,906,287 Garrett Thornburg, USA5) May 10, 2013 Fell below 5% \\xc2\\xa7 22 (1) sentence 1 no. 6 in conjunction with \\xc2\\xa7 22 (1) sentence 2 4.81 10,057,706 Thornburg Investment Management, Inc., Santa Fe, NM, USA 5) May 10, 2013 Fell below 5% \\xc2\\xa7 22 (1) sentence 1 no. 6 4.81 10,057,706 BlackRock Group Limited, London, United Kingdom 2) March 20, 2013 Exceeded 3% \\xc2\\xa7 22 (1) sentence 1 no. 6 in conjunction with \\xc2\\xa7 22 (1) sentence 2 3.02 6,317,959 The Capital Group Companies, Inc., Los Angeles, CA, USA 7) September 1, 2012 Exceeded 3% and 5% \\xc2\\xa7 22 (1) sentence 1 no. 6 in conjunction with \\xc2\\xa7 22 (1) sentence 2 and 3 6.00 12,554,828 BlackRock Advisors Holdings, Inc., New York, NY, USA 4) May 4, 2012 Exceeded 3% \\xc2\\xa7 22 (1) sentence 1 no. 6 in conjunction with \\xc2\\xa7 22 (1) sentence 2 3.30 6,903,160 BlackRock Advisors Holdings, Inc., New York, NY, USA 8) May 4, 2012 Exceeded 3% \\xc2\\xa7 22 (1) sentence 1 no. 6 in conjunction with \\xc2\\xa7 22 (1) sentence 2 3.16 6,605,250 BR Jersey International Holdings, L.P., St. Helier, Jersey, Channel Islands 8) May 4, 2012 Exceeded 3% \\xc2\\xa7 22 (1) sentence 1 no. 6 in conjunction with \\xc2\\xa7 22 (1) sentence 2 3.16 6,605,250 BlackRock Financial Management, Inc., New York, NY, USA9) August 9, 2011 Exceeded 5% \\xc2\\xa7 22 (1) sentence 1 no. 6 in conjunction with \\xc2\\xa7 22 (1) sentence 2 5.004 10,468,681 9. Retained earnings Retained earnings EUR thousand Retained earnings as of December 31, 2012 Distribution of a dividend of EUR 1.35 per ordinary share in the share capital for the 2012 fiscal year (209,216,186 shares) 606,495 282,442 Retained earnings brought forward 324,053 Net income of adidas AG for the 2013 fiscal year 100,023 Retained earnings as of December 31, 2013 424,076 BlackRock Holdco 2, Inc., Wilmington, Wilmington, DE , USA9) August 9, 2011 Exceeded 5% \\xc2\\xa7 22 (1) sentence 1 no. 6 in conjunction with \\xc2\\xa7 22 (1) sentence 2 5.004 10,468,681 BlackRock, Inc., New York, NY, USA10) July 27, 2011 Exceeded 5% \\xc2\\xa7 22 (1) sentence 1 no. 6 in conjunction with \\xc2\\xa7 22 (1) sentence 2 5.04 10,549,445 Capital Research and Management Company, Los Angeles, CA, USA11) December 19, 2008 Exceeded 5% \\xc2\\xa7 22 (1) sentence 1 no. 6 5.01 9,695,127 1) See publication by the Company dated May 23, 2013. 2) Notification according to \\xc2\\xa7 25a (1) German Securities Trading Act ( WpHG ): 4,08% (8.527.141) according to \\xc2\\xa7 25a WpHG (1,74% = 3.642.900 indirect); 0,22% (463.822) according to \\xc2\\xa7 25 WpHG; 0,.02% (44.137) according to \\xc2\\xa7 21, 22 WpHG 3) See publication by the Company dated May 22, 2013 4) Notification according to \\xc2\\xa7 25a (1) German Securities Trading Act ( WpHG ): 0,98 % (2.050.000) according to \\xc2\\xa7 25a WpHG (Equity Swa ps, Futures); 2,38% (4.972.044) according to \\xc2\\xa7 25 WphHG; 1,38% (2.884.243) according to \\xc2\\xa7 21, 22 WpHG. 5) See publication by the Company dated June 18, 2013. 6) See publi cation by the Company dated March 25, 2013. 7) See publication by the Company dated September 7, 2012. 4) See publication by the Company dated May 14, 2012. 9) See publication by the Company dated October 17, 2012. 10) See publication by the Company dated August 4, 2011. 11) See publication by the Company dated January 7, 2009. 10. Untaxed reserve The special reserve established in 2003 in accordance with \\xc2\\xa7 273 HGB (old version) and Section 35 Income Tax Regulations ( Einkommensteuer-Richtlinien , \"EStR\") for write-downs relating to the construction of the factory outlet was reduced during the year under review by a EUR 322 thousand amortization charge. 11. Provisions/accruals Provisions/accruals EUR thousand Dec. 31, 2013 Dec. 31, 2012 Provisions for pensions and similar obligations 164,773 152,054 Provisions for taxes 40,743 28,229 Other provisions 187,885 180,815 Provisions/accruals 393,401 361,098 Following an appropriation to a pension fund in December 2006 for the entitlements of the current members of the Executive Board and two former members of the Executive Board, the pension provisions for pension commitments for the current board members are EUR 0. As a result of this, adidas AG has an indirect obligation. Further transfers are made to a pension trust fund to cover the pension entitlements earned by active members of the Executive Board since 2006. These transfers are recognized in profit or loss. The provisions for former members of the Executive Board and their survivors amounted to EUR 36,545 thousand as of December 31, 2013 (previous year: EUR 36,839 thousand). Additionally, there are EUR 6,099 thousand in indirect obligations (previous year: EUR 6,193 thousand) for which no provisions have been recognized, since these obligations are fully funded by the pension fund. As of the balance sheet date, there are no shortfalls for the indirect obligations. Former members of the Executive Board and their survivors received a total of EUR 3,421 thousand in retirement pay in fiscal year 2013 (previous year: EUR 3,336 thousand). The largest item in other provisions concerns provisions for personnel of EUR 90, 799 thousand (previous year: EUR 87,716 thousand). This amount is primarily attributable to provisions for performance-based remuneration components. Additional significant items in other provisions are provisions for outstanding invoices at EUR 44,542 thousand (previous year: EUR 41,427 thousand) and provisions for marketing of EUR 41,463 thousand (previous year: EUR 34,226 thousand). Provisions for early and partial retirement obligations were reported under other provisions at a settlement amount of EUR 6,771 thousand as of December 31, 2013 (previous year: EUR 9,620 thousand). The fair value of the netted assets is EUR 4,726 thousand as of the reporting date (previous year: EUR 4,729 thousand) and historical costs amount to EUR 4,249 thousand (previous year: EUR 4,169 thousand). Any difference arising between the fair value and historical cost of the netted assets is subject to a statutory restriction on distribution. 12. Liabilities Liabilities EUR thousand Dec. 31, 2013 Dec. 31, 2012 Total Residual term up to 1 year Residual term 1-5 years Residual term more than 5 years Prior year total Bonds, of which convertible 500,000 0 0 500,000 500,000 (previous year) (0) (0) (500,000) Liabilities to banks 157,960 55,521 102,439 0 162,243 (previous year) (2,383) (159,860) (0) Trade accounts payable 62,336 61,410 895 31 54,236 (previous year) (54,236) (0) (0) Liabilities to affiliated companies 3,040,169 2,931,402 108,767 0 3,240,417 (previous year) (3,136,018) (104,399) (0) Other liabilities 46,254 45,503 596 155 34,876 (previous year) (32,503) (2,199) (174) of which from taxes 8,634 5,074 of which relating to social security 2,384 2,242 Dec. 31, 2013 3,806,719 3,093,836 212,697 500,1 86 3,991,772 Dec. 31, 2012 (3,225,140) (266,458) (500,174) The liabilities are unsecured. The liabilities to affiliated companies primarily concern liabilities from Group Treasury activities. Trade payables to affiliated companies amounted to EUR 14,357 thousand (previous year: EUR 10,048 thousand). Other liabilities include leasing liabilities, tax and customs liabilities, liabilities relating to social security and similar obligations, accrued interest not yet payable, credit balances in accounts receivable, and salaries and commissions payable. The convertible bond issue in the amount of EUR 500,000 thousand becomes due in 2019 and is divided into 2,500 bearer bonds with equal rights, each in the nominal amount of EUR 200 thousand. The bondholder has the right to convert each bond in full, but not partially, into registered common shares (no-par-value shares) during an exercise period. There is also the right to early settlement in 2017 in compliance with a notice period, which may not be exercised if adidas AG has exercised the right to early settlement. 13. Contingent liabilities and other financial commitments Contingent liabilities EUR thousand Dec. 31, 2013 Dec. 31, 2012 Warranty obligations 1,376,875 1,563,712 of which for affiliated companies - Bank loans 608,767 708,152 - Letters of credit 23,465 20,560 - Guarantee Agreement 744,643 835,000 The guarantee obligations for bank loans to affiliated companies are from lines of credit drawn on by affiliated companies. adidas AG\\'s letters of credit are mainly import letters of credit in connection with product purchases in the Far East. The guarantee agreements are with adidas International Finance B.V., Amsterdam, the Netherlands, and secure a third- party loan. Due to past experience and the adidas Group\\'s current strong financial position, the risk that these will be called on is considered extremely slight. Other financial commitments Other financial commitments of EUR 678,040 thousand (previous year: EUR 716.977 thousand) for adidas AG include amounts for the entire foreseeable contractual period for promotion, advertising, rental and leasing agreements as of December 31, 2013. This includes commitments of EUR 29,257 thousand (previous year: EUR 33,629 thousand) to GEV Grundst\\xc3\\xbccksgesellschaft Herzogenaurach mbH und Co. KG, a wholly-owned subsidiary. Maturities EUR thousand in 2013 224,901 2014-2017 357,363 after 2017 54,880 637,144 The Group acquires approximately 80% of its products in Asia. Since a major portion of the product costs concerns raw materials that the suppliers have to acquire in US dollars (USD), billings to the adidas Group are also made in USD. In contrast, sales by Group companies to customers are mainly in euros (EUR), pounds Sterling (GBP), Japanese yen (JPY), and in many other currencies. Currency hedges are entered into to reduce the risk of changes in fair value and in cash flows (currency risks). Most subsidiaries hedge their currency risks through adidas AG, except for those subsidiaries that are unable to hedge through adidas AG due to local currency restrictions, or for whom it is more sensible to hedge locally for economic reasons. Currency risks that are assumed by adidas AG from subsidiaries by entering into inter-Group currency transactions are strategically hedged with banks, normally for a period of between 12 and 24 months, using forward exchange transactions, currency swaps, currency options, or a combination of currency options, which provide protection and, at the same time, the opportunity to profit from future beneficial foreign exchange rate movements on financial markets. In 2013, the adidas Group purchased about USD 2.6 billion net to hedge its operating business. Outstanding financial derivatives EUR thousand Dec. 31, 2013 Dec. 31, 2012 Notional amounts Currency hedging contracts 9,065,872 8,074,166 Interest hedging contracts 0 0 9,065,872 8,074,166 The notional volume of option structures is included only once in the notional amounts. Outstanding financial derivatives EUR thousand Dec. 31, 2013 Dec. 31, 2012 Carrying amount Fair value Carrying amount Fair value Assets (Other assets) Currency hedging contracts 2,111 135,073 3,963 116,623 Interest hedging contracts 0 0 0 0 Liabilities (Other provisions) Currency hedging contracts -3,872 -129,061 -4,759 -103,902 Interest hedging contracts 0 0 0 0 -1,761 6,012 -796 12,721 Notional amounts represent the gross total of all call and put contracts for derivative financial transactions. Fair values of forward exchange transactions are determined based on current ECB reference exchange rates or reference exchange rates of local central banks, together with forward premiums or discounts. The fair values (gains and losses) of the currency hedging contracts are presented as gross values. Currency options are measured using market quotes or option pricing models (Garman- Kohlhagen model). The notional amounts of outstanding financial derivatives in foreign currency are translated into euros at year-end closing rates. The carrying values are taken from the balance sheet. The table below provides an overview of the risks hedged: Hedged r isk as of the balance sheet date EUR thousand / Maturity Notional Net change in fair value Maturity Currency risk Risk Forward exchange transactions and options with subsidiaries 4,226,677 38,216 1 - 20 months Hedging Forward exchange transactions and options with banks 3,212,837 -35,984 1 - 20 months 14. Sales adidas AG\\'s business activities are primarily concentrated in one sector, specifically, the development, trading and marketing of sports and leisure articles. In addition, adidas AG generates licensing revenue, primarily from affiliated companies, by exploiting brand rights. Sales EUR thousand 2013 2012 Breakdown by product group Shoes 382,463 365,061 Textiles 408,695 436,229 Sports equipment 54,487 69,080 845,645 870,370 Other sales revenues 18,387 22,763 Licensing income 1,088,435 1,111,408 Sales 1,952,467 2,004,541 Of these revenues, EUR 741,392 thousand (previous year: EUR 760,185 thousand) were generated in Germany and EUR 1,211,075 thousand (previous year: EUR 1,244,356 thousand) outside Germany, mainly in Europe. 15. Other operating income Other operating income consists mainly of EUR 847,175 thousand in foreign currency gains (previous year: EUR 940,476 thousand) and cost transfers to affiliated companies. Other operating income includes income relating to other periods of EUR 27,7 82 thousand (previous year: EUR 54,554 thousand). This income consists primarily of income from the reversal of provisions of EUR 18,513 thousand (previous year: EUR 9,843 thousand) and income from insurance benefits in the amount of EUR 6,494 thousand (previous year: EUR 3,796 thousand). 16. Cost of materials Cost of materials EUR thousand 2013 2012 Cost of raw materials, consumables and supplies, and of purchased merchandise 532,143 573,655 Cost of materials 532,143 573,655 17. Personnel expenses Personnel expenses EUR thousand 2013 2012 Wages and salaries 298,485 289,288 Social security, post -employment and other employee benefit costs 58,541 54,131 of which for old -age pensions 13,755 12,330 Personnel expenses 357,026 343,419 The increase in personnel expense was due to higher employee headcounts and higher salaries than in the previous year due to salary increases. 18. Amortization and write-downs of intangible fixed assets and depreciation and write-downs of tangible fixed assets Amortization and write-downs of intangible assets amounted to EUR 48,017 thousand (previous year: EUR 42,213 thousand) related to brand rights transferred from adidas International Marketing B.V., Amsterdam, The Netherlands, and computer software and licenses. Depreciation and write-downs of tangible fixed assets of EUR 32,566 thousand (previous year: EUR 29,218 thousand) relates primarily to write-downs of EUR 11,136 thousand (previous year: EUR 11,229 thousand) on buildings and write-downs on computer hardware of EUR 8,312 thousand (previous year: EUR 7,636 thousand). 19. Other operating expenses Other operating expenses essentially comprise cost transfers, currency exchange losses, advertising and promotional expenses, legal and consulting fees, services, travel expenses, rental and lease charges, postal and telephone expenses, and outgoing freight. The EUR 74,787 thousand decrease in these expenses resulted primarily from the reduction in currency translation losses by EUR 83,461 thousand to EUR 825,730 thousand and the decrease of EUR 16,233 thousand in legal and advisory expenses. By contrast, marketing expenses increased by EUR 35,064 thousand. 20. Income from investments in related companies Income from adidas AG\\'s investments in related companies amounted to EUR 102,486 thousand (previous year: EUR 86,212 thousand) and essentially concerns dividend payments from subsidiaries in Korea, Kazakhstan, Hong Kong and Singapore. 21. Profits received/losses absorbed in accordance with a profit and loss transfer agreement A profit and loss transfer agreement exists with adidas Insurance & Risk Consultants GmbH, Herzogenaurach, as well as with adidas Beteiligungsgesellschaft mbH, Herzogenaurach. The significant decrease was attributable to the transfer of the relatively low profit from adidas Beteiligungsgesellschaft mbH amounting to EUR 5,734 thousand (previous year: EUR 335,060 thousand). 22. Write-downs of long-term financial assets In 2013, the equity investment in Sarragan AG was written down by EUR 2,841 thousand (previous year: EUR 0 thousand). 23. Net interest income Interest result EUR thousand 2013 2012 Income from loans of long -term financial assets 2,589 1,699 of which from affiliated companies 2,589 1,699 Other interest and similar income 25,461 26,405 of which from affiliated companies 22,164 22,470 Interest and similar expenses -90,331 -100,239 of which to affiliated companies -50,558 -64,711 Interest result -62,281 -72,135 Other interest and similar income contains EUR 241 thousand (previous year: EUR 594 thousand) from the compounding or discounting of provisions. Moreover, interest and similar expenses contains EUR 8,087 thousand (previous year: EUR 7,563 thousand) from the compounding or discounting of provisions. EUR 7,694 thousand (previous year: EUR 7,200 thousand) of that figure relates to pension provisions. The interest expense from the provision for early and partial retirement obligations of EUR338 thousand (previous year: EUR313 thousand) is offset against the income from fluctuations in the fair value of the assets offset in accordance with \\xc2\\xa7 246 (2) sentence 2 HGB amounting to EUR 83 thousand (previous year: EUR 181 thousand). 24. Taxes on income Taxes on income include corporate income tax, municipal trade tax and withholding tax on licensing income resulting from the collection of licensing fees outside Germany. Taxes on income does not include any gains or losses from deferred taxes. Overall, deferred tax liabilities were more than offset by deferred tax assets. In accordance with the option under \\xc2\\xa7 274 (1) sentence 2 HGB , the Company has opted to forgo recognizing the surplus deferred tax assets. As of December 31, 2013, adidas AG expects to realize a total of EUR 41,719 thousand in future tax benefits due to temporary accounting differences (previous year: EUR 39,497 thousand). This amount was calculated based on a combined income tax rate of 28 %. Deferred tax assets result primarily from Group receivables, pension provisions and intangible assets. Deferred tax liabilities result essentially in relation to Group liabilities. 25. Other disclosures No. of employees (annual average) 2013 2012 Total Salaried Wage Total Salaried Wage Global Sales 250 250 0 232 232 0 Headquarters Corporate Services 1,380 1,253 127 1,225 1,129 96 Marketing 1,041 1,041 0 1,000 1,000 0 Operations 1,301 779 522 1,344 755 589 Market Central 1,202 907 295 1,240 872 368 5,174 5,041 As of December 31 5,235 5,162 26. Remuneration of the Executive Board and the Supervisory Board Remuneration of the Supervisory Board and the Executive Board of adidas AG Executive Board Total remuneration of members of the Executive Board in the 2013 fiscal year was EUR 5,558 thousand (previous year: EUR 6,141 thousand). Please refer to the condensed management report for disclosures pursuant to \\xc2\\xa7 285 sentence 1 no. 9a sentence 5-9 HGB. The provisions for the pension entitlements (including deferred compensation) of current members of the Executive Board totaled EUR 20,709 thousand as of December 31, 2013 (previous year: EUR 19,403 thousand) The provisions for the pension entitlements of former members of the Executive Board and their survivors totaled EUR 36,545 thousand as of December 31, 2013 (previous year: EUR 36,839 thousand). Additionally, there are EUR 6,099 thousand in indirect obligations (previous year: EUR 6,193 thousand) for which no provisions have been recognized, since these obligations are fully funded by the pension fund. Former members of the Executive Board and their survivors received a total of EUR 3,421 thousand in retirement pay in fiscal year 2013 (previous year: EUR3,336 thousand). Executive Board members did not receive any loans from the Company in fiscal year 2013. Supervisory Board The annual remuneration for members of the Supervisory Board in accordance with the Articles of Association was EUR 920 thousand. No loans were granted to members of the Supervisory Board in fiscal year 2013. Recommendation on appropriation of the net unappropriated profits of adidas AG The Executive Board of adidas AG recommends that the shareholders approve a dividend of EUR 1.50 per share for 2013. It is therefore recommended that adidas AG\\'s net unappropriated profits as of December 31, 2013 be appropriated as follows: Appropriation of retained earnings EUR thousand Retained earnings as of December 31, 2013 424,076 Distribution of a dividend of EUR 1.50 per no -par value share on the share capital of EUR 209,216,186.00 entitled to dividends for the 2013 fiscal year (209,216,186 shares) 313,824 Amount carried forward 110,252 Declaration on the German Corporate Governance Code On February 13, 2014, the Executive Board and Supervisory Board of adidas AG issued an updated Declaration of Conformity in accordance with \\xc2\\xa7 161 AktG and made it accessible to the shareholders on a permanent basis. The wording of the Declaration of Conformity may be found on the Company\\'s website. Disclosures pursuant to \\xc2\\xa7 285 sentence 1 no. 10 HGB and \\xc2\\xa7 285 no. 17 HGB The disclosures pursuant to \\xc2\\xa7 285 sentence 1 no. 10 HGB are contained in Appendix 2 to the notes to the financial statements. In accordance with \\xc2\\xa7 285 no. 17 HGB , the Company has opted not to include a disclosure of the total audit fee charged by the auditor in this report, since such disclosures are already contained in the consolidated financial statements of the adidas Group. In its function as the ultimate parent, adidas AG, Herzogenaurach (Local Court of F\\xc3\\xbcrth, HRB 3868), prepares consolidated financial statements, which are published on the electronic Federal Gazette. Herzogenaurach, February 14, 2014 The Executive Board of adidas AG adidas AG Statement of changes in fixed assets Cost Amounts in EUR thousand (HGB) Carried forward as of Jan. 1, 2013 Additions Reclassifi -cations Dispo-sals As of Dec. 31, 2013 Intangible assets Industrial and similar rights and assets, and licenses in such rights and assets 362,170 35,303 25,004 3,437 419,040 Prepayments and assets under construction 29,891 8,632 -25,004 7 13,512 392,061 43,935 0 3,444 432,552 Tangible assets Land, land rights and buildings, including buildings on third -party land 272,002 19,201 4,098 5 295,296 Technical equipment and machinery 28,649 1,767 6 366 30,056 Other equipment, operating and office equipment 190,073 17,488 218 2,618 205,161 Prepayments and assets under construction 17,040 33,796 -4,322 0 46,514 507,764 72,252 0 2,989 577,027 Financial assets Shares in affiliated companies 3,416,885 159 0 7,598 3,409,446 Loans to affiliated companies 13,165 4,872 0 10,275 7,762 Equity investments 79,249 0 0 0 79,249 Loans to non -affiliated companies 0 50 0 0 50 3,509,299 5,081 0 17,873 3,496,507 Fixed assets 4,409,124 121,268 0 24,306 4,506,086 Appendix 1 to the Notes Cumulative depreciation/am ortization and write -downs Carrying amount As of Dec. 31, 2013 Net amount as of Dec. 31, 2013 Net amount as of Dec. 31, 2012 Reversals of write -downs during the year Depreciation/ amortization and write -downs during the year 284,748 134,292 122,003 0 48,017 0 13,512 29,891 0 0 284,748 147,804 151,894 0 48,017 87,582 207,714 195,574 0 11,434 19,604 10,452 10,938 0 1,513 166,047 39,114 40,846 0 19,619 0 46,514 17,040 0 0 273,233 303,794 264,398 0 32,566 20,590 3,388,856 3,391,750 0 2,841 0 7,762 9,207 0 0 0 79,249 79,249 0 0 0 50 0 0 0 20,590 3,475,917 3,480,206 0 2,841 578,571 3,927,515 3,896,498 0 83,424 Supervisory Board Igor Landau, Lugano, Switzerland Chairman Former Chief Executive Officer of Aventis S.A. , Paris, France Membership in control bodies pursuant to \\xc2\\xa7 285 para. 10 HGB: - Member of t he Supervisory Board, Allianz SE, Munich, Germany - Member of the Board of Directors, Sanofi -Aventis S.A., Paris, France Sabine Bauer*, Erlangen, Germany Deputy Chairwoman Chairwoman of the Central Works C ouncil , adidas AG Membership in control bodies pursuant to \\xc2\\xa7 285 para. 10 HGB: - none Willi Schwerdtle, Munich , Germany Deputy Chairman Partner , WP Force Solutions GmbH (in the course of incorporation) , Bad Hom burg, Germany 1) Membership in control bodies pursuant to \\xc2\\xa7 285 para. 10 HGB: - Member of the Supervisory Board, Eckes AG, Nieder -O lm, Germany Diet er Hauenstein *, Herzogenaurach , Germany Deputy Chairman of the Works Council Herzogenaurach, adidas AG Membership in control bodies pursuant to \\xc2\\xa7 285 para. 10 HGB: - none Dr. Wolfgang J\\xc3\\xa4ger * , Bochum, Germany Managing Director, Hans -B\\xc3\\xb6ckler -Stiftung, D\\xc3\\xbcsseldorf, Germany Membership in control bodies pursuant to \\xc2\\xa7 285 para. 10 HGB: - none Dr. Stefan Jentzsch, Kronberg, Germany Partner , Perella Weinberg Partners UK LLP, London , Great Britain Membership in control bodies pursuant to \\xc2\\xa7 285 para. 10 HGB: - Member of the Supervisory Board, Sky Deutschland AG, Unterf\\xc3\\xb6hring, Germany - Deputy Chairman of the Supervisory Board, AIL Leasing M\\xc3\\xbcnchen AG, Gr\\xc3\\xbcnwald, Germany Herbert Kauffmann , Stuttgart , Germany Management Consultant, Stuttgart, Germany Membership i n control bodies pursuant to \\xc2\\xa7 285 para. 10 HGB: - Chairman of the Supervisory Board, Uni scon universal identity control GmbH, Munich, Germany - Member of the Supervisory Board, DEUTZ AG, Cologne, Germany 2) Roland Nosko*, Wolnzach, Germany Trade Union Offi cial, IG BCE, Headquarter Nuremberg, Germany Membership in control bodies pursuant to \\xc2\\xa7 285 para. 10 HGB: - Deputy Chairman of the Supervisory Board, CeramTec GmbH , Plochingen, Germany Alexander Popov, Moscow, Russia Chairman, RFSO \\xef\\xac\\x81Lokomotiv\\xef\\xac\\x82, Moscow , Russia Membership in control bodies pursuant to \\xc2\\xa7 285 para. 10 HGB: - none Hans Ruprecht*, Herzogenaurach, Germany Sales Director Customer Service Central Europe West , adidas AG Membership in control bodies pursuant to \\xc2\\xa7 285 para. 10 HGB: - none Heid i Thaler -Veh*, Uffenheim, Germany Member of the Central Works Council, adidas AG Membership in control bodies pursuant to \\xc2\\xa7 285 para. 10 HGB: - none Christian Tourres, Lungern, Switzerland Former Member of the Executive Board of adidas AG Membership i n control bodies pursuant to \\xc2\\xa7 285 para. 10 HGB: - none Executive Board Herbert Hainer, Herzogenaurach, Germany Chief Executive Officer Membership in control bodies pursuant to \\xc2\\xa7 285 para. 10 HGB: - Deputy Chairman of the Supervisory Board, FC Bayern M\\xc3\\xbcnchen AG, Munich, Germany - Member of the Supervisory Board, Allianz Deutschland AG, Munich, Germany - Member of the Supervisory Board, Deutsche Lufthansa AG, Cologne, Germany Glenn Bennett, Boston/Massachusetts , USA Membership in control bodies pursuan t to \\xc2\\xa7 285 para. 10 HGB: - none Robin J. Stalker, Oberreichenbach, Germany Membership in control bodies pursuant to \\xc2\\xa7 285 para. 10 HGB: - Member of the Su pervisory Board, Schaeffler A G, Herzogenaurach, Germany Erich Stamminger, Nuremberg, Germany Mem bership in control bodies pursuant to \\xc2\\xa7 285 para. 10 HGB: - none Roland Auschel 1), Erlangen, Germany Membership in control bodies pursuant to \\xc2\\xa7 285 para. 10 HGB: - none Shareholdings of adidas AG, Herzogenaurach at December 31, 2013 Company and Domicile Germany 1GEV Grundst\\xc3\\xbccksgesellschaft Herzogenaurach mbH & Co. KG Herzogenaurach (Germany) EUR162 directly 100 -505 2GEV Grundst\\xc3\\xbccks-Beteiligungsgesellschaft Herzogenaurach mbH Herzogenaurach (Germany) EUR43 directly 100 23adidas Insurance & Risk Consultants GmbH 10) Herzogenaurach (Germany) EUR26 directly 100 -4adidas Beteiligungsgesellschaft mbH 10) Herzogenaurach (Germany) EUR354.103 directly 100 -5adidas CDC Immobilieninvest GmbH Herzogenaurach (Germany) EUR12.078 18 100 -1.590 6adidas Verwaltungsgesellschaft mbH (formerly: Reebok-CCM Hockey GmbH) Herzogenaurach (Germany) EUR4.351 106 100 -24 Europe (incl. Middle East and Africa) 7adidas sport gmbh Cham (Switzerland) CHF7.514 directly 100 2.490 8adidas Austria GmbH Klagenfurt (Austria) EUR6.903 directly 95,89 1.660 74,11 9adidas France S.a.r.l. Landersheim (France) EUR112.755 25 100 10.742 10 adidas International B.V. Amsterdam (Netherlands) EUR6.408.593 directly 93,97 258.227 96,03 11 adidas International Trading B.V. Amsterdam (Netherlands) EUR617.179 10 100 181.936 12 adidas International Marketing B.V. Amsterdam (Netherlands) EUR49.375 10 100 194 13 adidas International Finance B.V. Amsterdam (Netherlands) EUR14.177 10 100 878 14 adidas Infrastructure Holding B.V. Amsterdam (Netherlands) EUR010 100 - 15 adidas Benelux B.V. Amsterdam (Netherlands) EUR1.918 directly 100 2.287 16 Rockport (Europe) B.V. Amsterdam (Netherlands) USD4.964 98 100 462 17 Hydra Ventures B.V. Amsterdam (Netherlands) EUR-2.461 10 100 -2.222 18 adidas International Property Holding B.V. Amsterdam (Netherlands) EUR59.075 116 100 -221 19 adidas (UK) Limited 1) Stockport (Great Britain) GBP62.212 25 100 12.181 20 adidas (ILKLEY) Limited 1) 5) Stockport (Great Britain) GBP-19 100 -21 LARA SPORT (UK) Limited 1) 5) Stockport (Great Britain) GBP-19 100 -Currency Equity(currency units in thousands) Share in capital held by 6) in %Profit / Loss (currency units in thousands) Shareholdings of adidas AG, Herzogenaurach at December 31, 2013 Company and Domicile Currency Equity(currency units in thousands) Share in capital held by 6) in %Profit / Loss (currency units in thousands) 22 Sarragan (UK) Limited 1) 5) Stockport (Great Britain) GBP-19 100 -23 adidas Trefoil Trading (U.K.) Limited 1) 5) Stockport (Great Britain) GBP-22 100 -24 Three Stripes Limited 1) 5) Stockport (Great Britain) GBP-19 50 -20 50 25 Reebok International Limited 9) London (Great Britain) EUR1.756.676.401 10 65,1 4.404.689 104 34,9 26 Trafford Park DC Limited (formerly: Reebok Finance Limited) London (Great Britain) GBP125 14 100 125 27 RBK Holdings Limited 5) 9) London (Great Britain) GBP-104 89 -97 11 28 Reebok Sports Limited 5) London (Great Britain) USD1.971 25 100 029 J.W. Foster & Sons (Athletic Shoes) Limited 5) 9) London (Great Britain) GBP-25 100 -30 The Rockport Company Limited 5) 9) London (Great Britain) GBP-25 100 -31 Reebok Eastern Trading Limited 5) London (Great Britain) USD3.112 25 100 -32 Reebok Pensions Management Limited 5) 9) London (Great Britain) GBP-25 100 -33 Reebok Europe Holdings London (Great Britain) GBP44.065 25 100 266 34 Adams Golf, U.K. Ltd. 5) 12) London (Great Britain) GBP-93 100 -35 Taylor Made Golf Limited 4) Basingstoke (Great Britain) GBP4.337 10 100 2.198 36 Ashworth U.K. Ltd. 5) 4) Bristol (Great Britain) GBP-35 100 -37 adidas (Ireland) Limited Dublin (Ireland) EUR2.644 10 100 591 38 adidas International Re Limited Dublin (Ireland) EUR12.023 10 100 2.148 39 Reebok Ireland Limited 5) Dublin (Ireland) EUR56 37 100 -40 adidas Belgium NV Brussels (Belgium) EUR3.280 15 100 1.143 41 Five Ten Europe NV 5) Wavre (Belgium) EUR-15 107 100 57 42 adidas Espana S.A.U. Zaragoza (Spain) EUR28.459 4100 6.354 43 adidas Finance Spain S.A.U. Zaragoza (Spain) EUR34.548 104 100 423 Shareholdings of adidas AG, Herzogenaurach at December 31, 2013 Company and Domicile Currency Equity(currency units in thousands) Share in capital held by 6) in %Profit / Loss (currency units in thousands) 44 Global Merchandising, S.L. Madrid (Spain) EUR-24 10 100 160 45 adidas Italy S.p.A Monza (Italy) EUR48.891 10 100 7.837 46 adidas Portugal - Artigos de Desporto, S.A. Lisbon (Portugal) EUR10.306 10 100 775 47 adidas Business Services Lda. Maia (Portugal) EUR275 10 98 93 directly 248 adidas Norge AS Lillestrom (Norway) NOK19.959 directly 100 2.026 49 Reebok-CCM Hockey AS Gressvik (Norway) NOK2.381 48 100 -1.805 50 adidas Sverige AB Solna (Sweden) SEK85.191 directly 100 16.139 51 adidas Finance Sverige AB Solna (Sweden) SEK572.431 106 100 9.570 52 Reebok-CCM Hockey AB Malung (Sweden) SEK74.344 50 100 -11.314 53 adidas Suomi Oy Helsinki (Finland) EUR1.754 10 100 650 54 Reebok-CCM Hockey Oy Forssa (Finland) EUR9.807 10 100 -2.064 55 adidas Danmark A/S \\xc3\\x85rhus (Denmark) DKK17.211 10 100 4.696 56 adidas CR s.r.o. Prague (Czech Republic) CZK100.641 directly 100 26.917 57 adidas Budapest Kft. Budapest (Hungary) HUF589.134 directly 100 -434.999 58 adidas Bulgaria EAD Sofia (Bulgaria) BGN13.094 directly 100 4.102 59 LLC \"adidas, Ltd.\" Moscow (Russia) RUB31.736.351 8100 4.554.566 60 adidas Poland Sp.z o.o. Warsaw (Poland) PLN 40.899 directly 100 13.488 61 adidas Finance Poland S.A. Warsaw (Poland) PLN 94.585 104 100 1.884 62 adidas Romania S.R.L. Bucharest (Romania) RON19.925 10 100 3.032 63 adidas Baltics SIA Riga (Latvia) EUR1.301 10 100 295 64 adidas Slovakia s.r.o. Bratislava (Slovak Republic) EUR2.223 directly 100 289 65 adidas Trgovina d.o.o. Ljubljana (Slovenia) EUR799 directly 100 581 Shareholdings of adidas AG, Herzogenaurach at December 31, 2013 Company and Domicile Currency Equity(currency units in thousands) Share in capital held by 6) in %Profit / Loss (currency units in thousands) 66 SC \"adidas-Ukraine\" Kiev (Ukraine) UAH600.150 directly 100 126.065 67 adidas LLP Almaty (Republic of Kazakhstan) KZT3.231.522 directly 100 1.821.115 68 adidas Serbia d.o.o. New Belgrade (Serbia) RSD1.123 10 100 29.713 69 adidas Croatia d.o.o. Zagreb (Croatia) HRK24.445 10 100 1.974 70 adidas Hellas A.E. Athens (Greece) EUR10.724 directly 100 5.678 71 adidas (Cyprus) Limited Nicosia (Cyprus) EUR-188 directly 100 -1.075 72 adidas Spor Malzemeleri Satis ve Pazarlama A.S. Istanbul (Turkey) TRY216.472 10 100 60.272 73 adidas Emerging Market L.L.C. Dubai (United Arab Emirates) USD51.826 indirectly 51 5.890 949 74 adidas Emerging Markets FZE Dubai (United Arab Emirates) USD63.530 10 100 51.938 75 adidas Levant Limited Dubai (United Arab Emirates) JOD2.733 74 55 2.280 76 adidas Levant Limited - Jordan Amman (Jordan) JOD2.203 75 100 2.103 77 adidas Imports & Exports Ltd. Cairo (Egypt) EGP924 78 100 -1.938 78 adidas Sporting Goods Ltd. Cairo (Egypt) EGP70.741 10 90 23.497 11 10 79 adidas Egypt Ltd. 5) Cairo (Egypt) USD-1.831 directly 100 -80 Reebok Israel Ltd. (formerly: adidas Israel Ltd.) Holon (Israel) ILS 7.923 directly 100 -661 81 Life Sport Ltd. Holon (Israel) ILS 69.513 10 51 34.508 82 adidas (South Africa) (Pty) Ltd. Cape Town (South Africa) ZAR169.719 directly 100 31.581 North America 83 adidas North America, Inc. Portland, Oregon (USA) USD4.674.772 10 100 61.357 84 adidas America, Inc. Portland, Oregon (USA) USD85.772 83 100 9.500 85 adidas International, Inc. Portland, Oregon (USA) USD58.745 83 100 5.484 86 adidas Team, Inc. 5) Portland, Oregon (USA) USD-1.013 83 100 -858 87 Taylor Made Golf Co., Inc. 11) Carlsbad, California (USA) USD124.800 83 100 12.231 Shareholdings of adidas AG, Herzogenaurach at December 31, 2013 Company and Domicile Currency Equity(currency units in thousands) Share in capital held by 6) in %Profit / Loss (currency units in thousands) 88 Ashworth, LLC. 5) 11) Carlsbad, California (USA) USD-87 100 -89 The Reebok Worldwide Trading Company, LLC Wilmington, Delaware (USA) USD14.448 104 100 1.101 90 Adams Golf, LLC 12) (formerly: Adams Golf, Inc.) Plano, Texas (USA) USD57.113 87 100 3.202 91 Adams Golf Holding Corp. 5) 12) Plano, Texas (USA) USD-90 100 -92 Adams Golf GP Corp. 5) 12) Plano, Texas (USA) USD-90 100 -93 Adams Golf, Ltd. 5) 12) Plano, Texas (USA) USD-91 99 -92 194 Adams Golf IP, L.P. 5) 12) Plano, Texas (USA) USD-91 99 -92 195 Adams Golf Mgmt. Corp. 5) 12) Plano, Texas (USA) USD-92 100 -96 WGU, LLC 5) 12) Plano, Texas (USA) USD-93 100 -97 Reebok Securities Holdings LLC 2) Wilmington, Delaware (USA) USD-104 100 -98 The Rockport Company, LLC Wilmington, Delaware (USA) USD30.448 104 100 1.779 99 Textronics, Inc. Wilmington, Delaware (USA) USD10.556 85 100 -3.435 100 Ashworth Acquisition Corp. 5) 11) Wilmington, Delaware (USA) USD-88 100 -101 Putter, LLC 5) 11) Montgomery, Alabama (USA) USD-100 100 -102 Onfield Apparel Group, LLC 5) 7) Dover, Delaware (USA) USD-104 99 -103 1103 Reebok Onfield, LLC 5) 7) Dover, Delaware (USA) USD-104 100 -104 Reebok International Ltd. 2) Canton, Massachusetts (USA) USD-1.102.976 83 100 -62.813 105 Sports Licensed Division of the adidas Group, LLC 7) Boston, Massachusetts (USA) USD99.648 104 99 -3.839 97 1106 Reebok-CCM Hockey U.S., Inc. 8) Montpelier, Vermont (USA) USD56.754 104 100 -2.681 107 Stone Age Equipment, Inc. Redlands, California (USA) USD17.451 84 100 -2.830 108 adidas Canada Ltd. Concord, Ontario (Canada) CAD135.248 directly 100 -9.671 109 Sport Maska Inc. New Brunswick (Canada) CAD22.394 10 100 -5.289 Shareholdings of adidas AG, Herzogenaurach at December 31, 2013 Company and Domicile Currency Equity(currency units in thousands) Share in capital held by 6) in %Profit / Loss (currency units in thousands) Asia 110 adidas Sourcing Limited Hong Kong (China) USD285.929 11 100 274.048 111 adidas Services Limited Hong Kong (China) USD9.240 10 100 671 112 adidas Hong Kong Ltd. Hong Kong (China) HKD210.837 directly 100 105.704 113 Smedley Industries (Hong Kong) Limited 5) 8) Hong Kong (China) HKD-106 100 -114 Reebok Trading (Far East) Limited Hong Kong (China) USD42.797 104 100 6.900 115 adidas (Suzhou) Co. Ltd. Suzhou (China) CNY222.145 4100 28.623 116 adidas Sports (China) Co. Ltd. Suzhou (China) CNY4.709.623 4100 1.850.273 117 adidas (China) Ltd. Shanghai (China) CNY190.097 10 100 113.174 118 Zhuhai adidas Technical Services Limited Zhuhai (China) USD17.093 110 100 1.027 119 adidas Logistics (Tianjin) Co., Ltd. Tianjin (China) CNY147.207 18 100 235 120 adidas Business Services (Dalian) Limited Dalian (China) CNY-4.839 10 100 -4.319 121 adidas Japan K.K. Tokyo (Japan) JPY7.993.633 25 100 1.492.781 122 Taylor Made Golf Co., Ltd. Tokyo (Japan) JPY8.594.061 25 100 975.337 123 Adams Golf Japan, Inc. 5) 12) Tokyo (Japan) JPY-93 100 -124 adidas Korea Ltd. Seoul (Korea) KRW155.483.010 directly 100 76.231.120 125 Taylor Made Korea Ltd. Seoul (Korea) KRW27.357.569 directly 100 447.382 126 adidas Korea Technical Services Limited Pusan (Korea) KRW3.273.089 110 100 145.501 127 adidas India Private Ltd. 3) New Delhi (India) INR6.896.375 directly 10,74 -455.747 10 89,26 128 adidas India Marketing Pvt. Ltd. 3) New Delhi (India) INR-127 98,99 -10 1,01 129 adidas Technical Services Pvt. Ltd. New Delhi (India) USD1.150 110 100 -52 130 Reebok India Company New Delhi (India) INR-22.635.127 141 93,15 -1.313.955 131 PT adidas Indonesia Jakarta (Indonesia) IDR124.620.276 10 99 77.822.387 directly 1Shareholdings of adidas AG, Herzogenaurach at December 31, 2013 Company and Domicile Currency Equity(currency units in thousands) Share in capital held by 6) in %Profit / Loss (currency units in thousands) 132 adidas (Malaysia) Sdn. Bhd. Kuala Lumpur (Malaysia) MYR 49.395 directly 60 31.994 10 40 133 adidas Philippines Inc. Manila (Philippines) PHP352.581 directly 100 138.362 134 adidas Singapore Pte. Ltd. Singapore (Singapore) SGD15.237 directly 100 4.637 135 adidas Taiwan Limited Taipei (Taiwan) TWD 878.628 10 100 593.772 136 adidas Holding (Thailand) Co., Ltd. Bangkok (Thailand) THB-56.171 indirectly 51 -120 directly 49 137 adidas (Thailand) Co., Ltd. Bangkok (Thailand) THB730.737 directly 100 200.573 138 adidas Australia Pty. Limited Mulgrave (Australia) AUD76.341 10 100 11.284 139 adidas New Zealand Limited Auckland (New Zealand) NZD10.242 directly 100 1.213 140 adidas Vietnam Company Limited Ho Chi Minh City (Vietnam) VND-44.620.154 10 100 -13.104.255 141 Reebok (Mauritius) Company Limited Port Louis (Mauritius) USD2.194 104 99 -89 1Latin America 142 adidas Argentina S.A. Buenos Aires (Argentina) ARS340.183 10 95 65.879 45143 Reebok Argentina S.A. Buenos Aires (Argentina) ARS19.482 10 26,13 8.973 11 73,86 144 ASPA do Brasil Ltda. 5) S\\xc3\\xa3o Paulo (Brazil) BRL209 110 100 -44 145 adidas do Brasil Ltda. S\\xc3\\xa3o Paulo (Brazil) BRL378.608 4100 3.342 146 adidas Franchise Brasil Servicos Ltda. S\\xc3\\xa3o Paulo (Brazil) BRL140 145 100 130 147 Reebok Produtos Esportivos Brasil Ltda. Jundiai (Brazil) BRL-44.155 10 99,99 -13.358 148 adidas Chile Limitada Santiago de Chile (Chile) CLP 54.076.855 directly 99 15.197.943 31149 adidas Colombia Ltda. Bogot\\xc3\\xa1 (Colombia) COP108.912 directly 100 -27.280.240 150 adidas de Mexico, S.A. de C.V. Mexico City (Mexico) MXN -166.534 directly 100 7.441 151 adidas Industrial, S.A. de C.V. Mexico City (Mexico) MXN 135.938 directly 100 4.046 152 Reebok de Mexico, S.A. de C.V. 5) Mexico City (Mexico) MXN -391.736 directly 100 -36.384 153 adidas Latin America, S.A. Panama City (Panama) USD911 directly 100 -3.933 Shareholdings of adidas AG, Herzogenaurach at December 31, 2013 Company and Domicile Currency Equity(currency units in thousands) Share in capital held by 6) in %Profit / Loss (currency units in thousands) 154 Concept Sport, S.A. Panama City (Panama) USD358 10 100 -394 155 adidas Market LAM, S.A. 5) Panama City (Panama) USD010 100 0156 3 Stripes S.A. (adidas Uruguay) 5) Montevideo (Uruguay) UYU -436 directly 100 -157 Tafibal S.A. Montevideo (Uruguay) UYU -2.019 directly 100 -2.019 158 Raelit S.A. Montevideo (Uruguay) UYU -1.325 directly 100 -1.325 159 Reebok Central America S.A. 2) San Pedro Sula (Honduras) HNL-104 99,6 -89 0,4 160 adidas Corporation de Venezuela, S.A. 5) Caracas (Venezuela) VEF-17 directly 100 -161 adisport Corporation San Juan (Puerto Rico) USD-2.002 10 100,00 250 1) Sub-group adidas UK 2) Sub-group Reebok International Ltd. 3) Sub-group India 4) Sub-group Taylor Made UK 5) Companies with no active business 6) The number refers to the number of the company 7) Sub-group Onfield 8) Sub-group Reebok-CCM Hockey, Inc. 9) Sub-group Reebok International Limited 10) Profit and loss transfer agreement 11) Sub-group Taylor Made Golf Co., Inc. 12) Sub-group Adams Golf LLC Auditors\\xe2\\x84\\xa2 report We have audited the annual financial statements \\xc5\\x92 comprising the balance sheet, the income statement, and the notes to the annual financial statements \\xc5\\x92 together with the bookkeeping system of adidas AG, Herzogenaurach, and its report on the position of th e Company and the Group for the fiscal year from January 1 to December 31, 2013. The maintenance of the books and records and the preparation of the annual financial statements and management report in accordance with German commercial law are the responsibility of the Company\\xe2\\x84\\xa2s Executive Board. Our responsibility is to express an opinion on the annual financial statements, together with the bookkeeping system, and the management report based on our audit. We conducted our audit of the annual financial statements in accordance with \\xc2\\xa7 317 HGB and German generally accepted standards for the audit of financial statements promulgated by the Institut der Wirtschaftspr\\xc3\\xbcfer (Institute of Public Auditors in Germany, \\xe2\\x80\\x94IDW\\xef\\xac\\x82). Those standards require that we plan and p erform the audit such that misstatements materially affecting the presentation of the assets and liabilities, financial position and profit or loss in the annual financial statements in accordance with German principles of proper accounting and in the management report are detected with reasonable assurance. Knowledge of the business activities and the economic and legal environment of the Company and evaluations of possible misstatements are taken into account in the determination of audit procedures. The effectiveness of the accounting -related internal control system and the evidence supporting the disclosures in the books and records, the annual financial statements and the management report are examined primarily on a test basis within the framework of t he audit. The audit includes assessing the accounting principles used and significant estimates made by the Executive Board, as well as evaluating the overall presentation of the annual financial statements and management report. We believe that our audit provides a reasonable basis for our opinion. Our audit has not led to any reservations. In our opinion, based on the findings of our audit, the annual financial statements comply with the statutory regulations and give a true and fair view of the assets, liabilities, financial position, and profit or loss of adidas AG in accordance with German principles of proper accounting. The management report is consistent with the annual financial statements, and on the whole, provides a suitable understanding of th e Company\\xe2\\x84\\xa2s position and suitably presents the risks and opportunities of future development. Munich, February 14, 2014 KPMG AG Wirtschaftspr\\xc3\\xbcfungsgesellschaft [original German version signed by:] Braun Wirtschaftspr\\xc3\\xbcfer [German Public Auditor] Wolper Wirtschaftspr\\xc3\\xbcfer [German Public Auditor] Responsibility Statement To the best of our knowledge, and in accordance with the applicable reporting principles, the annual financial statements give a true and fair view of the assets, liabilities, financial position and profit or loss of the company, and the Management Report, which has been combined with the Group Management Report, includes a fair review of the development and performance of the business and the position of the company, together with a description of the material opportunities and risks associated with the expected development of the company. Herzogenaurach, February 14, 20 14 The Executive Board Supervisory Board Report IGOR LANDAU Chairman of the Supervisory Board Dear Shareholders, We look back on 2013 as a challenging but also successful year. Thanks to strong brands and partnerships in the world of sport s, a s well as first -class innovations, the adidas Group was again able to achieve good overall business results. Growth in the emerging markets as well as the strong gross margin improve ment were key highlights . However, t he Group also faced significant headwinds in 2013 . The significant negative currency translation effects , a weak development in Western Europe , generally lower demand in the golf market as well as distribution issues in Russia/CIS were particular challenges. Nevertheless, these issues have been proactively and resolutely managed, and the Group is well positioned to again achieve sales growth at all brands, in all regions and in all markets as well as to improve profitability in 2014. Supervision and advice in dialogue with the Executive Board In the year under review, we again performed all our tasks laid down by law, the Articles of Association and the Rules of Procedure carefully and conscientiously. We regularly advised the Executive Board on th e management of the company and diligently and continuously supervised its management activities, assuring ourselves of the legality, expediency and regularity thereof. The Executive Board involved us directly in all of the Group\\xe2\\x84\\xa2s fundamental decisions. After in-depth consultation and examination of the detailed information submitted to us by the Executive Board, we approved individual transactions where required by law. The Executive Board informed us extensively and in a timely manner through written a nd oral reports at our Supervisory Board meetings. This information covered all relevant aspects of the Group\\xe2\\x84\\xa2s business strategy and business planning, including finance, investment and personnel planning, the course of business and the Group\\xe2\\x84\\xa2s financial position and profitability. We were also kept up to date on matters relating to the risk situation, risk management and compliance as well as all major decisions and business transactions. The Executive Board explained immediately and in a detailed manner any deviations in business performance from the established plans, and we discussed these matters in depth within the Supervisory Board. The Executive Board regularly provided us with detailed reports for the preparation of our meetings. We thus always ha d the opportunity to critically analyse the Executive Board\\'s reports and resolution proposals within the committees and within the Supervisory Board as a whole and to put forward any suggestions we might have before resolving upon the Executive Board\\xe2\\x84\\xa2s proposals after in -depth examination and consultation. In the periods between our meetings, the Executive Board kept us continuously informed about the current business situation by means of monthly reports. In addition to five regular meetings of the Supervisory Board, we held two extraordinary meetings in the year under review . In January 2014, an extraordinary Supervisory Board meeting relating to Executive Board matters took place by way of a conferenc e ca ll. Two of the shareholder representatives were unable to participate in person due to the short notice. The regular meeting of the entire Supervisory Board which took place in February 2014 dealt with matters relating to the 2013 financial year. Apart f rom one regular meeting, which two members were prevented from attending due to other business appointments that could not be postponed, all Supervisory Board members attended all regular meetings in the year under review. The average attendance rate at meetings of the entire Supervisory Board was therefore just under 97%. All the committee meetings, with the exception of one meeting of the Audit Committee and of the General Committee, were fully attended. The external auditor, KPMG AG Wirtschaftspr\\xc3\\xbcfungsge sellschaft (KPMG), attended all regular meetings of the Supervisory Board, inasfar as they did not deal with Executive Board matters. KPMG also attended all meetings of the Audit Committee. The employee representatives held separate meetings to prepare and discuss agenda items for the meetings of the entire Supervisory Board. In the periods between meetings, the Supervisory Board Chairman and the Audit Committee Chairman maintained regular contact with the Chief Executive Officer and the Chief Financial Of ficer with respect to matters such as corporate strategy, business development and planning, the risk situation and risk management as well as compliance. In addition, the Supervisory Board Chairman was immediately informed about any significant events of fundamental importance for evaluating the situation and development of the company and management activities. Topics for the entire Supervisory Board Our consultations and examinations focused on the following topics: Situation and business development The development of sales and earnings, the employment situation as well as the financial position of the Group and the business development of the Group\\xe2\\x84\\xa2s segments and individual regions were presented to us in detail by the Executive Board following the close of the respective quarter and were discussed regularly. Further ongoing topics for discussion were the possible impact of global economic developments and negative currency translation effects as well as the development of individual br ands. In March 2013, we reviewed and dealt intensively with the KPMG -certified 2012 annual financial statements and consolidated financial statements, including the combined management report for adidas AG and the Group, as well as the Executive Board\\'s proposal regarding the appropriation of retained earnings. In May, the Executive Board reported to us in detail about the measures initiated in connection with clearing up the compliance case that had arisen at Reebok India Company. In addition, the Executive Board provided us with information on business development and planned marke ting activities in the football category in the run -up to the 2014 World Cup . In August, we dealt intensively with the Group\\'s new logistics and warehousing strategy and the possible financial consequences . At our extraordinary meeting in September, the Ex ecutive Board informed us that, due to recent negative market developments, the published sales and earnings targets for the year under review were no longer achievable. We discussed the reasons in detail, including the recent intensification of negative currency effects, the continued softness in the global golf market and the unexpected short -term distribution constraint s as a result of the transition to a new distribution facility in Russia. In November, we were provided with detailed information about the competition situation in the sporting goods market. Transactions requiring Supervisory Board approval In accordance with statutory regulations and the Rules of Procedure of the Supervisory Board, certain transactions and measures require a formal resol ution or the prior approval of the Supervisory Board. In the context of this requirement, at our meeting in February , we discussed in detail and approved the budget and investment planning for 2013 presented by the Executive Board, which, in view of the macroeconomic environment, we deemed to be ambitious. Additionally, following completion of the project, we approved the dissolution of the \"Apple\" committee, which had been established ad hoc related to the acquisition of Adams Golf, Inc., USA in 2012. At our meeting in March, we discussed and resolved upon the resolutions to be proposed to the 2013 Annual General Meeting, including the proposal regarding the appropriation of retained earnings for the 20 12 financial year. At an extraordinary meeting in June, held by way of a conference call, the Executive Board provided us with detailed information on key strategic distribution centres leased by Group companies on a long -term basis and the possible purcha se thereof in the interest of optimising profitability . W e specifically dealt with the Executive Board\\'s proposal to purchase the strategic ally important distribution centre in Manchester, UK, hitherto leased by a Group company . At our August meeting, foll owing the Executive Board\\xe2\\x84\\xa2s detailed presentation on the future logistics and warehousing strategy for the adidas Group, we resolved to invest in the distribution centre in Brazil. Additionally, we dealt with the various possibilities for funding pension obligations of adidas AG and approved funding in the form of a pension trust fund. Composition of the Executive Board In the year under review and at the beginning of 2014, we took important dec isions concerning changes on the Executive Board. At our meeting in May 2013, we resolved to extend Erich Stamminger\\'s Executive Board mandate by a further three years, taking due account of his excellent performance and successes in Global Brands . Furthermore, after extensive consultation, we approved the changes in the terms of his Executive Board service contract, following the General Committee\\'s proposal. At our Supervisory Board meeting in September, held by way of a conference call, we extensi vely discussed and resolved upon the appointment of Roland Auschel to the Executive Board with responsibility for Global Sales, effective October 1, 2013, and we established his compensation, following the General Committee\\'s proposal . Roland Auschel has h eld various management positions with in the Group in Germany and abroad in the past 20 years. With the creation of a separate Executive Board function for Global Sale s, we have taken into account the importance of Global Sales for our company. At our extraordinary meeting on January 8, 2014, after due consideration within the Supervisory Board as a whole, we complied with the request of our long -standing Executive Board member Erich Stamminger to release him from his duties as Executive Board member effective March 5, 2014. We approved the termination of his appointment by mutual consent and, following in -depth consultation, resolved upon the appointment of Eric Liedtke as member of the Executive Board with responsibility for Global Brands. Eric Liedtke has held various management positions within the adidas Group both in and outside Germany in the past 20 years. At the same time, we determined his compensation and approved the termination agreement regarding the Executive Board service contract with Erich Stamminger, following the General Committee\\'s proposal. Executive Board compensation Key topics of our meeting as well as of our circular resolution in February 2013 were the determination of the Performance Bonuses to be granted to our Execut ive Board members for 2012 and the redetermination of the already paid Performance Bonuses for the 2011 financial year and the previous years, as proposed by the General Committee . This reassessment was necessary as the financial figures relevant for determining the degree of target achievement of our Executive Board members in 2011 and prior years had to be adjusted as a result of the financial irregularities that had arisen at Reebok India Company, which had also led to a restatement of the consolidated financial statements for 2011 and prior years. While the restatement of the financial figures necessitated redetermination of the Performance Bonuses for the 2011 financial year and prior years, resulting in obligations for repayment by the Executive Board, the already paid LTIP Bonuses 2009/2011 were not affected. In March 2013, following in -depth consideration , we resolved upon the key performance criteria for granting the 2013 Performance Bonuses, together with the individual short -term targets, an d determined the Performance Bonus target amount relevant for each Executive Board member as proposed by the General Committee . In February 2014, we discussed the performance of the Executive Board members in the year under review and resolved upon the Per formance Bonuses to be granted to them. Further information on compensation for the 2013 financial year can be found in the Compensation Report SEE COMPENSATION REP ORT, P. 53. Corporate governance The Supervisory Board regularly monitors the application and further development of the corporate governance regulations within the company, in particular the implementation of the recommendations of the German Corporate Governance Code (the \\xef\\xac\\x81Code\\xef\\xac\\x82). In ad dition to our February meetings, at which corporate governance is usually the focal point, we dealt in our August meeting with the amendments to the Code that were adopted by the Government Commission on the German Corporate Governance Code on May 1 3, 201 3, essentially concerning the subject \\xef\\xac\\x81Executive Board compensation\\xef\\xac\\x82. At this meeting, as well as at our meeting in February 2014, we extensively discussed the recommendation to introduce caps for the variable compensation components and resolved upon caps accordingly. At the February meeting, we also dealt extensively with the Code\\xe2\\x84\\xa2s recommendation that , when determining Executive Board compensation , consideration should be given to the relation between Executive Board compensation and that of top -level management and of employees overall including development of the compensation over time. We discussed in detail how to define the respective benchmark groups for the purpose of these comparisons , and then passed a resolution accordingly. At this meeting, after comprehensive discussion, we also resolved upon the 201 4 Declaration of Compliance. The Declaration of Compliance w as made permanently available to shareholders on the corporate website at: WWW.ADIDAS -GROUP.COM/CORPORATE_ GOVERNANCE . There was no indication of any conflicts of interest on the part of the members of the Executive and Supervisory Boards which would require immediate disclosure to the Supervisory Board and would also require reporting to the Annual General Meeting. There are no direct advisory or other service relationships between the company and a member of the Supervisory Board. Further information on corporate governance at the adidas Group can be found in the Corporate Governance Report including the Declaration on Corporate Governance SEE CORPORATE GOVERNANCE REPORT INCLUDING THE DECLARATION ON CORPO RATE GOVERNANCE, P. 48. Efficient committee work In order to perform our tasks in an efficient manner, we have five Supervisory Board standing committees SEE SUPERVISORY BOAR D, P. 40 and also two project -related ad hoc committees, which were established in 2009 and 2012. These committees prepare resolutions of the Supervisory Board as well as topics for Supervisory Board meetings. In appropriate cases, and within the legally permissible framework, we have delegated the Supervisory Board\\xe2\\x84\\xa2s authority to pass resolutions to individual committees. With the exception of the Audit Committee, the Supervisory Board Chairman also chairs all the standing committees. The committee chairpersons inform the Supervisory Board about the content and results of the committee meetings at the subsequent meeting of the entire Supervisory Board. - The Steering Committee did not meet in the year under review. \\xc5\\x92 The General Committee held six meetings in 2013, two of them by way of a conference call. An additional meeting, dealing with topics relating to the year under review, took place in February 2014. The main focus of the meetings of the General Committee was the preparation of the resolutions of the Supervisory Board as a whole relating to the Executive Board members\\' compensation as explained in detail above \\xc5\\x92 in particular with regard to the concret e assessment of the Executive Board members\\' variable compensation \\xc5\\x92 as well as resolutions relating to personnel changes on the Executive Board. At its meeting in February 2013, the General Committee thoroughly discussed a resolution proposal for the Supervisory Board concerning the amount of the Performance Bonuses to be repaid by the Executive Board members for the 2011 financial year and previous years . It also assessed the individual degree of target achievement with respect to the Performance Bonuses to be paid to the Executive Board members for the 2012 financial year and resolved upon a corresponding recommendation to the Supervisory Board . Additionally , in March it discussed the new performance criteria and targets as well as the target bonuses for the Executive Board members\\' Performance Bonus plans for the year under review. In September and December 2013, it dealt with matters relating to Executive Board compensation. I n February 2014 , it discussed the termination agreement regarding the Executive Board service contract concluded with Erich Stamminger , as well as the Performance Bonuses to be granted to the members of the Executive Board for the year under review. At each of these meetin gs, the committee resolved upon respective resolution prop osals to present to the Supervisory Board. \\xc5\\x92 The Audit Committee held five meetings in the year under review and also one meeting in February 2014, dealing with topics of the year under review. The Chief Financial Officer and the auditor were present at all meetings and reported to the committee members in detail. The focal point of the committee\\'s work in February 2013 was a preliminary examination of the annual financial statements and the consolidated financial statements for 2012, including the combined management report of adidas AG and the Group, as well as the Executive Board\\'s proposal regarding the appropriation of retained earnings. Following an in -depth review of the audit reports with the auditor, at its meeting in March the Audit Committee recom mended that the Supervisory Board approve the annual financial statements and the consolidated financial statements. In addition, after obtaining the auditor\\'s declaration of independence, the Audit Committee prepared the Supervisory Board\\'s proposal to th e Annual General Meeting concerning the selection of the auditor of the annual financial statements and the consolidated financial statements for 2013 . After jointly establishing the priority topics for the audit, the committee discussed in detail the gran ting of the corresponding audit assignments. It then dealt in November with the audit fee arrangements and monitored the auditor\\'s independence and qualifications by obtaining information on the measures taken by the auditor to guarantee independence and q ualification s, and assured itself that the auditor does not face any conflicts of interest. Furt hermore, the Executive Board provided the Audit C ommittee with information regarding tax and customs strategies and the potential risks in these areas . The members of the Audit Committee examined in detail the quarterly financial reports and the first half year report, together with the Chief Financial Officer and the auditor, prior to their publication. At a c ommittee meeting in September , the committe e members focused solely on the topic of risk management and the internal control system as well as the compliance management system. In this context, the committee members dealt in particular with the main risk factors for the Group and the related control measures as well as the further expansion of the compliance organisation and compliance management. The committee members critically analysed the audit results of the Internal Audit function and approved the audit plan for 2013/2014. As part of their exa mination of the effectiveness of the internal control system and the internal audit system, the committee members reviewed in depth the applied methods and systems and the effectiveness thereof with the aid of written and oral reports. In the course of the following comprehensive discussions, inter alia with the auditor, they assured themselves of the effectiveness of the systems. In the context of the regular reporting of the Chief Compliance Officer on material compliance issues, the committee dealt intensively with the compliance case that had arisen at Reebok India Company and the consequences thereof. \\xc5\\x92 The Mediation Committee , established in accordance with the German Co -Determination Act (Mitbestimmungsgesetz \\xc5\\x92 MitbestG), had no reason to convene in 2013. \\xc5\\x92 The Nomination Committee held one meeting in the year under review. The focal point of this meeting was the preparations for the next election of shareholder representatives on the Supervisory Board by the Annual General Meeting on May 8, 2014. \\xc5\\x92 Ad hoc committees: The ad hoc \\xef\\xac\\x81Committee for Real Estate Projects\\xef\\xac\\x82, which was established in 2009, and the ad hoc \\xef\\xac\\x81Convertible Bond/Bond with Warrants\\xef\\xac\\x82 committee did not meet in the year under review. Examination of the adidas AG 2013 annual financial statements and consolidated financial statements KPMG audited the 2013 consolidated financial statements prepared by the Executive Board in accordance with \\xc2\\xa7 315a German Commercial Code (Handelsgesetzbuch \\xc5\\x92 HGB) in compliance with IFRS and issued an unqualified opinion thereon. The auditor also approved without qualification the 2013 annual financial statements of adidas AG, prepared in accordance with HGB requirements, as well as the combined management report for adidas AG and the Group. The financial statements, the proposal put forward by the Executiv e Board regarding the appropriation of retained earnings and the auditor\\xe2\\x84\\xa2s reports were distributed by the Executive Board to all Supervisory Board members in a timely manner. We examined the documents in depth, with a particular focus on legality and regu larity, in the presence of the auditor at the Audit Committee meeting held on February 28, 2014 and at the Supervisory Board\\xe2\\x84\\xa2s March 4, 2014 financial statements meeting, during which the Executive Board explained the financial statements in detail . The Ex ecutive Board\\xe2\\x84\\xa2s commentaries concerning the goodwill impairment necessary for the 2013 financial year were also a topic at these meetings . At both meetings, the auditor reported the material results of the audit with a focus on the priority topics of the year under review as agreed with the Audit Committee and was available for questions and the provision of additional information. The auditor did not report any significant weaknesses with respect to the internal control and risk management system relating to the accounting process. We also discussed in depth with the Executive Board the proposal concerning the appropriation of retained earnings, which provides for a dividend of \\xe2\\x80\\xa2 1.5 0 per dividend -entitled share and adopted it in light of the Group\\xe2\\x84\\xa2s good f inancial situation and future prospects as well as the expectations of our shareholders. Based on our own examinations of the annual and consolidated financial statements, we are convinced that there are no objections to be raised. At our financial statements meeting, therefore, following the recommendation of the Audit Committee, we approved the audit results and the financial statements prepared by the Executive Board. The annual financial statements of adidas AG were thus approved. Expression of thanks On behalf of the adidas Group, we wish to thank Erich Stamminger for his leadership and his expertise as well as for his countless contributions to the success of the Group and its brands over the last three decades. Furthermore, o n behalf of the Supervisory Board, I wish to thank the Executive Board and all adidas Group employees around the world for their tremendous personal dedication, their performance and their ongoing commitment, and I also thank the employee representatives for their good co llaboration. For the Supervisory Board IGOR LANDAU Chairman of the Supervisory Board March 2014 adidas AG Adi-Dassler-Str. 1 91074 Herzogenaurach Germany www.adidas-Group.com '}"
      ]
     },
     "execution_count": 7,
     "metadata": {
      "tags": []
     },
     "output_type": "execute_result"
    }
   ],
   "source": [
    "from google.colab import files\n",
    "uploaded = files.upload()"
   ]
  },
  {
   "cell_type": "code",
   "execution_count": 0,
   "metadata": {
    "colab": {},
    "colab_type": "code",
    "id": "yBiCr0HFn3n8"
   },
   "outputs": [],
   "source": [
    "fileName\n",
    "z = open(\"clean2.txt\",\"r\",encoding = \"utf8\")\n",
    "import re\n",
    "f = z.read()\n",
    "f=str(\" \".join(re.split(r'[\\n\\t]+', f)))\n",
    "f=str(\" \".join(re.split(r'\\s[\\s]+', f)))\n"
   ]
  },
  {
   "cell_type": "code",
   "execution_count": 0,
   "metadata": {
    "colab": {},
    "colab_type": "code",
    "id": "g0h6M8X95dXr"
   },
   "outputs": [],
   "source": [
    "from polyglot.text import Text"
   ]
  },
  {
   "cell_type": "code",
   "execution_count": 0,
   "metadata": {
    "colab": {},
    "colab_type": "code",
    "id": "CV2IrIuFjWKt"
   },
   "outputs": [],
   "source": [
    "blob = Text(f,hint_language_code='en')"
   ]
  },
  {
   "cell_type": "code",
   "execution_count": 0,
   "metadata": {
    "colab": {},
    "colab_type": "code",
    "id": "m9J12JvnjY26"
   },
   "outputs": [],
   "source": [
    "#len(blob.entities)"
   ]
  },
  {
   "cell_type": "code",
   "execution_count": 11,
   "metadata": {
    "colab": {
     "base_uri": "https://localhost:8080/",
     "height": 91,
     "resources": {
      "http://localhost:8080/nbextensions/google.colab/files.js": {
       "data": "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",
       "headers": [
        [
         "content-type",
         "application/javascript"
        ]
       ],
       "ok": true,
       "status": 200,
       "status_text": ""
      }
     }
    },
    "colab_type": "code",
    "id": "DaWHrF8l_uBE",
    "outputId": "d8cda3ae-69ce-45a3-812b-ee7cd492beaf"
   },
   "outputs": [
    {
     "data": {
      "text/html": [
       "\n",
       "     <input type=\"file\" id=\"files-e871df4a-08da-46d6-90ed-29297f7ed6b4\" name=\"files[]\" multiple disabled />\n",
       "     <output id=\"result-e871df4a-08da-46d6-90ed-29297f7ed6b4\">\n",
       "      Upload widget is only available when the cell has been executed in the\n",
       "      current browser session. Please rerun this cell to enable.\n",
       "      </output>\n",
       "      <script src=\"/nbextensions/google.colab/files.js\"></script> "
      ],
      "text/plain": [
       "<IPython.core.display.HTML object>"
      ]
     },
     "metadata": {
      "tags": []
     },
     "output_type": "display_data"
    },
    {
     "name": "stdout",
     "output_type": "stream",
     "text": [
      "Saving ff.csv to ff (1).csv\n"
     ]
    },
    {
     "data": {
      "text/plain": [
       "{'ff.csv': b'EntityName,EntityType\\n'}"
      ]
     },
     "execution_count": 11,
     "metadata": {
      "tags": []
     },
     "output_type": "execute_result"
    }
   ],
   "source": [
    "files.upload()"
   ]
  },
  {
   "cell_type": "code",
   "execution_count": 0,
   "metadata": {
    "colab": {},
    "colab_type": "code",
    "id": "TbZFA8WY6k57"
   },
   "outputs": [],
   "source": [
    "\n",
    "import pandas as pd\n",
    "import numpy as np\n",
    "csv_new = pd.Series([])\n",
    "csv_new2 = pd.Series([])\n",
    "data = pd.read_csv(\"ff.csv\") \n"
   ]
  },
  {
   "cell_type": "code",
   "execution_count": 13,
   "metadata": {
    "colab": {
     "base_uri": "https://localhost:8080/",
     "height": 359
    },
    "colab_type": "code",
    "id": "eLLMLVGXvK63",
    "outputId": "5e728108-dbed-411a-f8f5-b21cf7ea255e"
   },
   "outputs": [
    {
     "data": {
      "text/html": [
       "<div>\n",
       "<style scoped>\n",
       "    .dataframe tbody tr th:only-of-type {\n",
       "        vertical-align: middle;\n",
       "    }\n",
       "\n",
       "    .dataframe tbody tr th {\n",
       "        vertical-align: top;\n",
       "    }\n",
       "\n",
       "    .dataframe thead th {\n",
       "        text-align: right;\n",
       "    }\n",
       "</style>\n",
       "<table border=\"1\" class=\"dataframe\">\n",
       "  <thead>\n",
       "    <tr style=\"text-align: right;\">\n",
       "      <th></th>\n",
       "      <th>Entity Type</th>\n",
       "      <th>Entity Name</th>\n",
       "      <th>EntityName</th>\n",
       "      <th>EntityType</th>\n",
       "    </tr>\n",
       "  </thead>\n",
       "  <tbody>\n",
       "    <tr>\n",
       "      <th>0</th>\n",
       "      <td>ORG</td>\n",
       "      <td>adidas</td>\n",
       "      <td>NaN</td>\n",
       "      <td>NaN</td>\n",
       "    </tr>\n",
       "    <tr>\n",
       "      <th>1</th>\n",
       "      <td>ORG</td>\n",
       "      <td></td>\n",
       "      <td>NaN</td>\n",
       "      <td>NaN</td>\n",
       "    </tr>\n",
       "    <tr>\n",
       "      <th>2</th>\n",
       "      <td>ORG</td>\n",
       "      <td>adidasAG</td>\n",
       "      <td>NaN</td>\n",
       "      <td>NaN</td>\n",
       "    </tr>\n",
       "    <tr>\n",
       "      <th>3</th>\n",
       "      <td>ORG</td>\n",
       "      <td>Management</td>\n",
       "      <td>NaN</td>\n",
       "      <td>NaN</td>\n",
       "    </tr>\n",
       "    <tr>\n",
       "      <th>4</th>\n",
       "      <td>ORG</td>\n",
       "      <td>adidasGroup</td>\n",
       "      <td>NaN</td>\n",
       "      <td>NaN</td>\n",
       "    </tr>\n",
       "    <tr>\n",
       "      <th>5</th>\n",
       "      <td>ORG</td>\n",
       "      <td>adidasGroup</td>\n",
       "      <td>NaN</td>\n",
       "      <td>NaN</td>\n",
       "    </tr>\n",
       "    <tr>\n",
       "      <th>6</th>\n",
       "      <td>ORG</td>\n",
       "      <td>adidasAG</td>\n",
       "      <td>NaN</td>\n",
       "      <td>NaN</td>\n",
       "    </tr>\n",
       "    <tr>\n",
       "      <th>7</th>\n",
       "      <td>ORG</td>\n",
       "      <td>adidasGroup</td>\n",
       "      <td>NaN</td>\n",
       "      <td>NaN</td>\n",
       "    </tr>\n",
       "    <tr>\n",
       "      <th>8</th>\n",
       "      <td>ORG</td>\n",
       "      <td>FederalGazette</td>\n",
       "      <td>NaN</td>\n",
       "      <td>NaN</td>\n",
       "    </tr>\n",
       "    <tr>\n",
       "      <th>9</th>\n",
       "      <td>ORG</td>\n",
       "      <td>adidasAG</td>\n",
       "      <td>NaN</td>\n",
       "      <td>NaN</td>\n",
       "    </tr>\n",
       "  </tbody>\n",
       "</table>\n",
       "</div>"
      ],
      "text/plain": [
       "  Entity Type     Entity Name EntityName EntityType\n",
       "0         ORG          adidas        NaN        NaN\n",
       "1         ORG                        NaN        NaN\n",
       "2         ORG        adidasAG        NaN        NaN\n",
       "3         ORG      Management        NaN        NaN\n",
       "4         ORG     adidasGroup        NaN        NaN\n",
       "5         ORG     adidasGroup        NaN        NaN\n",
       "6         ORG        adidasAG        NaN        NaN\n",
       "7         ORG     adidasGroup        NaN        NaN\n",
       "8         ORG  FederalGazette        NaN        NaN\n",
       "9         ORG        adidasAG        NaN        NaN"
      ]
     },
     "execution_count": 13,
     "metadata": {
      "tags": []
     },
     "output_type": "execute_result"
    }
   ],
   "source": [
    "i = 0\n",
    "for sent in blob.sentences:\n",
    "  #print(sent, \"\\n\")\n",
    "  for entity in sent.entities:\n",
    "    er = str(entity.tag).replace(\"I-\",\"\")\n",
    "    ex = re.sub(r'[^\\w]', '', str(entity))\n",
    "    csv_new[i] = er\n",
    "    csv_new2[i] = ex\n",
    "\n",
    "    \n",
    "    #print(entity.tag, entity)\n",
    "    i = i +1 \n",
    "\n",
    "data.insert(0, \"Entity Type\", csv_new) \n",
    "data.insert(1, \"Entity Name\", csv_new2)\n",
    "\n",
    "\n",
    "data.head(10)\n",
    "    "
   ]
  },
  {
   "cell_type": "code",
   "execution_count": 0,
   "metadata": {
    "colab": {},
    "colab_type": "code",
    "id": "46quYo8gvRiO"
   },
   "outputs": [],
   "source": [
    "del data['EntityName']\n",
    "del data['EntityType']"
   ]
  },
  {
   "cell_type": "code",
   "execution_count": 15,
   "metadata": {
    "colab": {
     "base_uri": "https://localhost:8080/",
     "height": 142
    },
    "colab_type": "code",
    "id": "4B0QVAimDcrW",
    "outputId": "f206af7d-e8d5-400b-db3d-553f1fa4e38e"
   },
   "outputs": [
    {
     "data": {
      "text/html": [
       "<div>\n",
       "<style scoped>\n",
       "    .dataframe tbody tr th:only-of-type {\n",
       "        vertical-align: middle;\n",
       "    }\n",
       "\n",
       "    .dataframe tbody tr th {\n",
       "        vertical-align: top;\n",
       "    }\n",
       "\n",
       "    .dataframe thead th {\n",
       "        text-align: right;\n",
       "    }\n",
       "</style>\n",
       "<table border=\"1\" class=\"dataframe\">\n",
       "  <thead>\n",
       "    <tr style=\"text-align: right;\">\n",
       "      <th></th>\n",
       "      <th>Entity Type</th>\n",
       "      <th>Entity Name</th>\n",
       "    </tr>\n",
       "  </thead>\n",
       "  <tbody>\n",
       "    <tr>\n",
       "      <th>1</th>\n",
       "      <td>ORG</td>\n",
       "      <td></td>\n",
       "    </tr>\n",
       "    <tr>\n",
       "      <th>904</th>\n",
       "      <td>PER</td>\n",
       "      <td></td>\n",
       "    </tr>\n",
       "    <tr>\n",
       "      <th>991</th>\n",
       "      <td>PER</td>\n",
       "      <td></td>\n",
       "    </tr>\n",
       "  </tbody>\n",
       "</table>\n",
       "</div>"
      ],
      "text/plain": [
       "    Entity Type Entity Name\n",
       "1           ORG            \n",
       "904         PER            \n",
       "991         PER            "
      ]
     },
     "execution_count": 15,
     "metadata": {
      "tags": []
     },
     "output_type": "execute_result"
    }
   ],
   "source": [
    "data[data['Entity Name'].map(len) < 2]"
   ]
  },
  {
   "cell_type": "code",
   "execution_count": 16,
   "metadata": {
    "colab": {
     "base_uri": "https://localhost:8080/",
     "height": 359
    },
    "colab_type": "code",
    "id": "quVbppqFH5Nq",
    "outputId": "316216da-fce7-4b57-a8d8-6372f3de8734"
   },
   "outputs": [
    {
     "data": {
      "text/html": [
       "<div>\n",
       "<style scoped>\n",
       "    .dataframe tbody tr th:only-of-type {\n",
       "        vertical-align: middle;\n",
       "    }\n",
       "\n",
       "    .dataframe tbody tr th {\n",
       "        vertical-align: top;\n",
       "    }\n",
       "\n",
       "    .dataframe thead th {\n",
       "        text-align: right;\n",
       "    }\n",
       "</style>\n",
       "<table border=\"1\" class=\"dataframe\">\n",
       "  <thead>\n",
       "    <tr style=\"text-align: right;\">\n",
       "      <th></th>\n",
       "      <th>Entity Type</th>\n",
       "      <th>Entity Name</th>\n",
       "    </tr>\n",
       "  </thead>\n",
       "  <tbody>\n",
       "    <tr>\n",
       "      <th>0</th>\n",
       "      <td>ORG</td>\n",
       "      <td>adidas</td>\n",
       "    </tr>\n",
       "    <tr>\n",
       "      <th>1</th>\n",
       "      <td>ORG</td>\n",
       "      <td></td>\n",
       "    </tr>\n",
       "    <tr>\n",
       "      <th>2</th>\n",
       "      <td>ORG</td>\n",
       "      <td>adidasAG</td>\n",
       "    </tr>\n",
       "    <tr>\n",
       "      <th>3</th>\n",
       "      <td>ORG</td>\n",
       "      <td>Management</td>\n",
       "    </tr>\n",
       "    <tr>\n",
       "      <th>4</th>\n",
       "      <td>ORG</td>\n",
       "      <td>adidasGroup</td>\n",
       "    </tr>\n",
       "    <tr>\n",
       "      <th>5</th>\n",
       "      <td>ORG</td>\n",
       "      <td>adidasGroup</td>\n",
       "    </tr>\n",
       "    <tr>\n",
       "      <th>6</th>\n",
       "      <td>ORG</td>\n",
       "      <td>adidasAG</td>\n",
       "    </tr>\n",
       "    <tr>\n",
       "      <th>7</th>\n",
       "      <td>ORG</td>\n",
       "      <td>adidasGroup</td>\n",
       "    </tr>\n",
       "    <tr>\n",
       "      <th>8</th>\n",
       "      <td>ORG</td>\n",
       "      <td>FederalGazette</td>\n",
       "    </tr>\n",
       "    <tr>\n",
       "      <th>9</th>\n",
       "      <td>ORG</td>\n",
       "      <td>adidasAG</td>\n",
       "    </tr>\n",
       "  </tbody>\n",
       "</table>\n",
       "</div>"
      ],
      "text/plain": [
       "  Entity Type     Entity Name\n",
       "0         ORG          adidas\n",
       "1         ORG                \n",
       "2         ORG        adidasAG\n",
       "3         ORG      Management\n",
       "4         ORG     adidasGroup\n",
       "5         ORG     adidasGroup\n",
       "6         ORG        adidasAG\n",
       "7         ORG     adidasGroup\n",
       "8         ORG  FederalGazette\n",
       "9         ORG        adidasAG"
      ]
     },
     "execution_count": 16,
     "metadata": {
      "tags": []
     },
     "output_type": "execute_result"
    }
   ],
   "source": [
    "data.head(10)"
   ]
  },
  {
   "cell_type": "code",
   "execution_count": 0,
   "metadata": {
    "colab": {},
    "colab_type": "code",
    "id": "2-WOtJNZH_gs"
   },
   "outputs": [],
   "source": [
    "data.to_csv(\"polyglot_output.csv\", sep='\\t', encoding='utf-8')\n",
    "files.download(\"polyglot_output.csv\")"
   ]
  },
  {
   "cell_type": "code",
   "execution_count": 0,
   "metadata": {
    "colab": {},
    "colab_type": "code",
    "id": "HlROs0maIMn2"
   },
   "outputs": [],
   "source": []
  }
 ],
 "metadata": {
  "colab": {
   "collapsed_sections": [],
   "include_colab_link": true,
   "name": "polyglotdemo.ipynb",
   "provenance": [],
   "version": "0.3.2"
  },
  "kernelspec": {
   "display_name": "Python 3",
   "language": "python",
   "name": "python3"
  },
  "language_info": {
   "codemirror_mode": {
    "name": "ipython",
    "version": 3
   },
   "file_extension": ".py",
   "mimetype": "text/x-python",
   "name": "python",
   "nbconvert_exporter": "python",
   "pygments_lexer": "ipython3",
   "version": "3.6.6"
  }
 },
 "nbformat": 4,
 "nbformat_minor": 1
}
